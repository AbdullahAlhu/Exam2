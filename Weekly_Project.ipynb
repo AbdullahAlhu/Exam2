{
  "cells": [
    {
      "cell_type": "markdown",
      "id": "5749a10a",
      "metadata": {
        "id": "5749a10a"
      },
      "source": [
        "# Weekly Project 2!"
      ]
    },
    {
      "cell_type": "markdown",
      "id": "92d44841",
      "metadata": {
        "id": "92d44841"
      },
      "source": [
        "## Introduction to Road Traffic Accidents (RTA) Dataset\n",
        "\n",
        "### Dataset Overview\n",
        "The RTA Dataset provides a detailed snapshot of road traffic accidents, capturing a range of data from accident conditions to casualty details. This dataset is essential for analyzing patterns and causes of accidents to improve road safety.\n",
        "\n",
        "### Data Characteristics\n",
        "- **Entries**: The dataset contains 12,316 entries.\n",
        "- **Features**: There are 32 features in the dataset, which include:\n",
        "  - `Time`: Time when the accident occurred.\n",
        "  - `Day_of_week`: Day of the week.\n",
        "  - `Age_band_of_driver`: Age group of the driver involved.\n",
        "  - `Sex_of_driver`: Gender of the driver.\n",
        "  - `Educational_level`: Educational level of the driver.\n",
        "  - `Type_of_vehicle`: Type of vehicle involved in the accident.\n",
        "  - `Cause_of_accident`: Reported cause of the accident.\n",
        "  - `Accident_severity`: Severity of the accident.\n",
        "- **Target Column**: `Accident_severity` is used as the target column for modeling. This feature classifies the severity of each accident.\n",
        "\n",
        "### Objective\n",
        "Students will use this dataset to apply various data visualization, modeling, and evaluation techniques learned in class. The primary goal is to build models that can accurately predict the severity of accidents and to identify the key factors that contribute to severe accidents."
      ]
    },
    {
      "cell_type": "markdown",
      "id": "177291c2",
      "metadata": {
        "id": "177291c2"
      },
      "source": [
        "## Import Libraries\n",
        "Import all the necessary libraries here. Include libraries for handling data (like pandas), visualization (like matplotlib and seaborn), and modeling (like scikit-learn)."
      ]
    },
    {
      "cell_type": "code",
      "execution_count": 371,
      "id": "2ad2bd0e",
      "metadata": {
        "id": "2ad2bd0e"
      },
      "outputs": [],
      "source": [
        "import pandas as pd"
      ]
    },
    {
      "cell_type": "markdown",
      "id": "5f236af2",
      "metadata": {
        "id": "5f236af2"
      },
      "source": [
        "## Load Data\n",
        "Load the dataset from the provided CSV file into a DataFrame."
      ]
    },
    {
      "cell_type": "code",
      "execution_count": 372,
      "id": "2d3f76e8",
      "metadata": {
        "id": "2d3f76e8"
      },
      "outputs": [],
      "source": [
        "data=pd.read_csv('/content/RTA_Dataset.csv')"
      ]
    },
    {
      "cell_type": "markdown",
      "id": "b9215c2f",
      "metadata": {
        "id": "b9215c2f"
      },
      "source": [
        "## Exploratory Data Analysis (EDA)\n",
        "Perform EDA to understand the data better. This involves several steps to summarize the main characteristics, uncover patterns, and establish relationships:\n",
        "* Find the dataset information and observe the datatypes.\n",
        "* Check the shape of the data to understand its structure.\n",
        "* View the the data with various functions to get an initial sense of the data.\n",
        "* Perform summary statistics on the dataset to grasp central tendencies and variability.\n",
        "* Check for duplicated data.\n",
        "* Check for null values.\n",
        "\n",
        "And apply more if needed!\n"
      ]
    },
    {
      "cell_type": "code",
      "source": [
        "data.describe()"
      ],
      "metadata": {
        "colab": {
          "base_uri": "https://localhost:8080/",
          "height": 300
        },
        "id": "VFqnNvJ2FME5",
        "outputId": "d580ab38-3859-4691-94fb-bb098936f724"
      },
      "id": "VFqnNvJ2FME5",
      "execution_count": 373,
      "outputs": [
        {
          "output_type": "execute_result",
          "data": {
            "text/plain": [
              "       Number_of_vehicles_involved  Number_of_casualties\n",
              "count                 12316.000000          12316.000000\n",
              "mean                      2.040679              1.548149\n",
              "std                       0.688790              1.007179\n",
              "min                       1.000000              1.000000\n",
              "25%                       2.000000              1.000000\n",
              "50%                       2.000000              1.000000\n",
              "75%                       2.000000              2.000000\n",
              "max                       7.000000              8.000000"
            ],
            "text/html": [
              "\n",
              "  <div id=\"df-331fc8fb-1aa1-4f26-9593-1ade47f3f45d\" class=\"colab-df-container\">\n",
              "    <div>\n",
              "<style scoped>\n",
              "    .dataframe tbody tr th:only-of-type {\n",
              "        vertical-align: middle;\n",
              "    }\n",
              "\n",
              "    .dataframe tbody tr th {\n",
              "        vertical-align: top;\n",
              "    }\n",
              "\n",
              "    .dataframe thead th {\n",
              "        text-align: right;\n",
              "    }\n",
              "</style>\n",
              "<table border=\"1\" class=\"dataframe\">\n",
              "  <thead>\n",
              "    <tr style=\"text-align: right;\">\n",
              "      <th></th>\n",
              "      <th>Number_of_vehicles_involved</th>\n",
              "      <th>Number_of_casualties</th>\n",
              "    </tr>\n",
              "  </thead>\n",
              "  <tbody>\n",
              "    <tr>\n",
              "      <th>count</th>\n",
              "      <td>12316.000000</td>\n",
              "      <td>12316.000000</td>\n",
              "    </tr>\n",
              "    <tr>\n",
              "      <th>mean</th>\n",
              "      <td>2.040679</td>\n",
              "      <td>1.548149</td>\n",
              "    </tr>\n",
              "    <tr>\n",
              "      <th>std</th>\n",
              "      <td>0.688790</td>\n",
              "      <td>1.007179</td>\n",
              "    </tr>\n",
              "    <tr>\n",
              "      <th>min</th>\n",
              "      <td>1.000000</td>\n",
              "      <td>1.000000</td>\n",
              "    </tr>\n",
              "    <tr>\n",
              "      <th>25%</th>\n",
              "      <td>2.000000</td>\n",
              "      <td>1.000000</td>\n",
              "    </tr>\n",
              "    <tr>\n",
              "      <th>50%</th>\n",
              "      <td>2.000000</td>\n",
              "      <td>1.000000</td>\n",
              "    </tr>\n",
              "    <tr>\n",
              "      <th>75%</th>\n",
              "      <td>2.000000</td>\n",
              "      <td>2.000000</td>\n",
              "    </tr>\n",
              "    <tr>\n",
              "      <th>max</th>\n",
              "      <td>7.000000</td>\n",
              "      <td>8.000000</td>\n",
              "    </tr>\n",
              "  </tbody>\n",
              "</table>\n",
              "</div>\n",
              "    <div class=\"colab-df-buttons\">\n",
              "\n",
              "  <div class=\"colab-df-container\">\n",
              "    <button class=\"colab-df-convert\" onclick=\"convertToInteractive('df-331fc8fb-1aa1-4f26-9593-1ade47f3f45d')\"\n",
              "            title=\"Convert this dataframe to an interactive table.\"\n",
              "            style=\"display:none;\">\n",
              "\n",
              "  <svg xmlns=\"http://www.w3.org/2000/svg\" height=\"24px\" viewBox=\"0 -960 960 960\">\n",
              "    <path d=\"M120-120v-720h720v720H120Zm60-500h600v-160H180v160Zm220 220h160v-160H400v160Zm0 220h160v-160H400v160ZM180-400h160v-160H180v160Zm440 0h160v-160H620v160ZM180-180h160v-160H180v160Zm440 0h160v-160H620v160Z\"/>\n",
              "  </svg>\n",
              "    </button>\n",
              "\n",
              "  <style>\n",
              "    .colab-df-container {\n",
              "      display:flex;\n",
              "      gap: 12px;\n",
              "    }\n",
              "\n",
              "    .colab-df-convert {\n",
              "      background-color: #E8F0FE;\n",
              "      border: none;\n",
              "      border-radius: 50%;\n",
              "      cursor: pointer;\n",
              "      display: none;\n",
              "      fill: #1967D2;\n",
              "      height: 32px;\n",
              "      padding: 0 0 0 0;\n",
              "      width: 32px;\n",
              "    }\n",
              "\n",
              "    .colab-df-convert:hover {\n",
              "      background-color: #E2EBFA;\n",
              "      box-shadow: 0px 1px 2px rgba(60, 64, 67, 0.3), 0px 1px 3px 1px rgba(60, 64, 67, 0.15);\n",
              "      fill: #174EA6;\n",
              "    }\n",
              "\n",
              "    .colab-df-buttons div {\n",
              "      margin-bottom: 4px;\n",
              "    }\n",
              "\n",
              "    [theme=dark] .colab-df-convert {\n",
              "      background-color: #3B4455;\n",
              "      fill: #D2E3FC;\n",
              "    }\n",
              "\n",
              "    [theme=dark] .colab-df-convert:hover {\n",
              "      background-color: #434B5C;\n",
              "      box-shadow: 0px 1px 3px 1px rgba(0, 0, 0, 0.15);\n",
              "      filter: drop-shadow(0px 1px 2px rgba(0, 0, 0, 0.3));\n",
              "      fill: #FFFFFF;\n",
              "    }\n",
              "  </style>\n",
              "\n",
              "    <script>\n",
              "      const buttonEl =\n",
              "        document.querySelector('#df-331fc8fb-1aa1-4f26-9593-1ade47f3f45d button.colab-df-convert');\n",
              "      buttonEl.style.display =\n",
              "        google.colab.kernel.accessAllowed ? 'block' : 'none';\n",
              "\n",
              "      async function convertToInteractive(key) {\n",
              "        const element = document.querySelector('#df-331fc8fb-1aa1-4f26-9593-1ade47f3f45d');\n",
              "        const dataTable =\n",
              "          await google.colab.kernel.invokeFunction('convertToInteractive',\n",
              "                                                    [key], {});\n",
              "        if (!dataTable) return;\n",
              "\n",
              "        const docLinkHtml = 'Like what you see? Visit the ' +\n",
              "          '<a target=\"_blank\" href=https://colab.research.google.com/notebooks/data_table.ipynb>data table notebook</a>'\n",
              "          + ' to learn more about interactive tables.';\n",
              "        element.innerHTML = '';\n",
              "        dataTable['output_type'] = 'display_data';\n",
              "        await google.colab.output.renderOutput(dataTable, element);\n",
              "        const docLink = document.createElement('div');\n",
              "        docLink.innerHTML = docLinkHtml;\n",
              "        element.appendChild(docLink);\n",
              "      }\n",
              "    </script>\n",
              "  </div>\n",
              "\n",
              "\n",
              "<div id=\"df-cdef6bff-2e93-41d4-996a-b6f5742e5b42\">\n",
              "  <button class=\"colab-df-quickchart\" onclick=\"quickchart('df-cdef6bff-2e93-41d4-996a-b6f5742e5b42')\"\n",
              "            title=\"Suggest charts\"\n",
              "            style=\"display:none;\">\n",
              "\n",
              "<svg xmlns=\"http://www.w3.org/2000/svg\" height=\"24px\"viewBox=\"0 0 24 24\"\n",
              "     width=\"24px\">\n",
              "    <g>\n",
              "        <path d=\"M19 3H5c-1.1 0-2 .9-2 2v14c0 1.1.9 2 2 2h14c1.1 0 2-.9 2-2V5c0-1.1-.9-2-2-2zM9 17H7v-7h2v7zm4 0h-2V7h2v10zm4 0h-2v-4h2v4z\"/>\n",
              "    </g>\n",
              "</svg>\n",
              "  </button>\n",
              "\n",
              "<style>\n",
              "  .colab-df-quickchart {\n",
              "      --bg-color: #E8F0FE;\n",
              "      --fill-color: #1967D2;\n",
              "      --hover-bg-color: #E2EBFA;\n",
              "      --hover-fill-color: #174EA6;\n",
              "      --disabled-fill-color: #AAA;\n",
              "      --disabled-bg-color: #DDD;\n",
              "  }\n",
              "\n",
              "  [theme=dark] .colab-df-quickchart {\n",
              "      --bg-color: #3B4455;\n",
              "      --fill-color: #D2E3FC;\n",
              "      --hover-bg-color: #434B5C;\n",
              "      --hover-fill-color: #FFFFFF;\n",
              "      --disabled-bg-color: #3B4455;\n",
              "      --disabled-fill-color: #666;\n",
              "  }\n",
              "\n",
              "  .colab-df-quickchart {\n",
              "    background-color: var(--bg-color);\n",
              "    border: none;\n",
              "    border-radius: 50%;\n",
              "    cursor: pointer;\n",
              "    display: none;\n",
              "    fill: var(--fill-color);\n",
              "    height: 32px;\n",
              "    padding: 0;\n",
              "    width: 32px;\n",
              "  }\n",
              "\n",
              "  .colab-df-quickchart:hover {\n",
              "    background-color: var(--hover-bg-color);\n",
              "    box-shadow: 0 1px 2px rgba(60, 64, 67, 0.3), 0 1px 3px 1px rgba(60, 64, 67, 0.15);\n",
              "    fill: var(--button-hover-fill-color);\n",
              "  }\n",
              "\n",
              "  .colab-df-quickchart-complete:disabled,\n",
              "  .colab-df-quickchart-complete:disabled:hover {\n",
              "    background-color: var(--disabled-bg-color);\n",
              "    fill: var(--disabled-fill-color);\n",
              "    box-shadow: none;\n",
              "  }\n",
              "\n",
              "  .colab-df-spinner {\n",
              "    border: 2px solid var(--fill-color);\n",
              "    border-color: transparent;\n",
              "    border-bottom-color: var(--fill-color);\n",
              "    animation:\n",
              "      spin 1s steps(1) infinite;\n",
              "  }\n",
              "\n",
              "  @keyframes spin {\n",
              "    0% {\n",
              "      border-color: transparent;\n",
              "      border-bottom-color: var(--fill-color);\n",
              "      border-left-color: var(--fill-color);\n",
              "    }\n",
              "    20% {\n",
              "      border-color: transparent;\n",
              "      border-left-color: var(--fill-color);\n",
              "      border-top-color: var(--fill-color);\n",
              "    }\n",
              "    30% {\n",
              "      border-color: transparent;\n",
              "      border-left-color: var(--fill-color);\n",
              "      border-top-color: var(--fill-color);\n",
              "      border-right-color: var(--fill-color);\n",
              "    }\n",
              "    40% {\n",
              "      border-color: transparent;\n",
              "      border-right-color: var(--fill-color);\n",
              "      border-top-color: var(--fill-color);\n",
              "    }\n",
              "    60% {\n",
              "      border-color: transparent;\n",
              "      border-right-color: var(--fill-color);\n",
              "    }\n",
              "    80% {\n",
              "      border-color: transparent;\n",
              "      border-right-color: var(--fill-color);\n",
              "      border-bottom-color: var(--fill-color);\n",
              "    }\n",
              "    90% {\n",
              "      border-color: transparent;\n",
              "      border-bottom-color: var(--fill-color);\n",
              "    }\n",
              "  }\n",
              "</style>\n",
              "\n",
              "  <script>\n",
              "    async function quickchart(key) {\n",
              "      const quickchartButtonEl =\n",
              "        document.querySelector('#' + key + ' button');\n",
              "      quickchartButtonEl.disabled = true;  // To prevent multiple clicks.\n",
              "      quickchartButtonEl.classList.add('colab-df-spinner');\n",
              "      try {\n",
              "        const charts = await google.colab.kernel.invokeFunction(\n",
              "            'suggestCharts', [key], {});\n",
              "      } catch (error) {\n",
              "        console.error('Error during call to suggestCharts:', error);\n",
              "      }\n",
              "      quickchartButtonEl.classList.remove('colab-df-spinner');\n",
              "      quickchartButtonEl.classList.add('colab-df-quickchart-complete');\n",
              "    }\n",
              "    (() => {\n",
              "      let quickchartButtonEl =\n",
              "        document.querySelector('#df-cdef6bff-2e93-41d4-996a-b6f5742e5b42 button');\n",
              "      quickchartButtonEl.style.display =\n",
              "        google.colab.kernel.accessAllowed ? 'block' : 'none';\n",
              "    })();\n",
              "  </script>\n",
              "</div>\n",
              "\n",
              "    </div>\n",
              "  </div>\n"
            ],
            "application/vnd.google.colaboratory.intrinsic+json": {
              "type": "dataframe",
              "summary": "{\n  \"name\": \"data\",\n  \"rows\": 8,\n  \"fields\": [\n    {\n      \"column\": \"Number_of_vehicles_involved\",\n      \"properties\": {\n        \"dtype\": \"number\",\n        \"std\": 4353.519030149126,\n        \"min\": 0.6887896452620738,\n        \"max\": 12316.0,\n        \"num_unique_values\": 6,\n        \"samples\": [\n          12316.0,\n          2.0406787918155245,\n          7.0\n        ],\n        \"semantic_type\": \"\",\n        \"description\": \"\"\n      }\n    },\n    {\n      \"column\": \"Number_of_casualties\",\n      \"properties\": {\n        \"dtype\": \"number\",\n        \"std\": 4353.578549582754,\n        \"min\": 1.0,\n        \"max\": 12316.0,\n        \"num_unique_values\": 6,\n        \"samples\": [\n          12316.0,\n          1.548148749594024,\n          8.0\n        ],\n        \"semantic_type\": \"\",\n        \"description\": \"\"\n      }\n    }\n  ]\n}"
            }
          },
          "metadata": {},
          "execution_count": 373
        }
      ]
    },
    {
      "cell_type": "code",
      "execution_count": 374,
      "id": "b206f836",
      "metadata": {
        "id": "b206f836",
        "colab": {
          "base_uri": "https://localhost:8080/"
        },
        "outputId": "23cf7d05-8742-4c31-ba2a-cca531038571"
      },
      "outputs": [
        {
          "output_type": "stream",
          "name": "stdout",
          "text": [
            "<class 'pandas.core.frame.DataFrame'>\n",
            "RangeIndex: 12316 entries, 0 to 12315\n",
            "Data columns (total 32 columns):\n",
            " #   Column                       Non-Null Count  Dtype \n",
            "---  ------                       --------------  ----- \n",
            " 0   Time                         12316 non-null  object\n",
            " 1   Day_of_week                  12316 non-null  object\n",
            " 2   Age_band_of_driver           12316 non-null  object\n",
            " 3   Sex_of_driver                12316 non-null  object\n",
            " 4   Educational_level            11575 non-null  object\n",
            " 5   Vehicle_driver_relation      11737 non-null  object\n",
            " 6   Driving_experience           11487 non-null  object\n",
            " 7   Type_of_vehicle              11366 non-null  object\n",
            " 8   Owner_of_vehicle             11834 non-null  object\n",
            " 9   Service_year_of_vehicle      8388 non-null   object\n",
            " 10  Defect_of_vehicle            7889 non-null   object\n",
            " 11  Area_accident_occured        12077 non-null  object\n",
            " 12  Lanes_or_Medians             11931 non-null  object\n",
            " 13  Road_allignment              12174 non-null  object\n",
            " 14  Types_of_Junction            11429 non-null  object\n",
            " 15  Road_surface_type            12144 non-null  object\n",
            " 16  Road_surface_conditions      12316 non-null  object\n",
            " 17  Light_conditions             12316 non-null  object\n",
            " 18  Weather_conditions           12316 non-null  object\n",
            " 19  Type_of_collision            12161 non-null  object\n",
            " 20  Number_of_vehicles_involved  12316 non-null  int64 \n",
            " 21  Number_of_casualties         12316 non-null  int64 \n",
            " 22  Vehicle_movement             12008 non-null  object\n",
            " 23  Casualty_class               12316 non-null  object\n",
            " 24  Sex_of_casualty              12316 non-null  object\n",
            " 25  Age_band_of_casualty         12316 non-null  object\n",
            " 26  Casualty_severity            12316 non-null  object\n",
            " 27  Work_of_casuality            9118 non-null   object\n",
            " 28  Fitness_of_casuality         9681 non-null   object\n",
            " 29  Pedestrian_movement          12316 non-null  object\n",
            " 30  Cause_of_accident            12316 non-null  object\n",
            " 31  Accident_severity            12316 non-null  object\n",
            "dtypes: int64(2), object(30)\n",
            "memory usage: 3.0+ MB\n"
          ]
        }
      ],
      "source": [
        "data.info() # tAccident_severity            12316 non-null  object\n",
        "#is obejet it mean that it is categrical and we must make a model predect categury"
      ]
    },
    {
      "cell_type": "code",
      "source": [
        "data['Accident_severity'].value_counts()# the category"
      ],
      "metadata": {
        "colab": {
          "base_uri": "https://localhost:8080/",
          "height": 209
        },
        "id": "rQPrgTkNE91i",
        "outputId": "04fbd7e6-2aa8-46fb-aff9-bc28a580815e"
      },
      "id": "rQPrgTkNE91i",
      "execution_count": 375,
      "outputs": [
        {
          "output_type": "execute_result",
          "data": {
            "text/plain": [
              "Accident_severity\n",
              "Slight Injury     10415\n",
              "Serious Injury     1743\n",
              "Fatal injury        158\n",
              "Name: count, dtype: int64"
            ],
            "text/html": [
              "<table border=\"1\" class=\"dataframe\">\n",
              "  <thead>\n",
              "    <tr style=\"text-align: right;\">\n",
              "      <th></th>\n",
              "      <th>count</th>\n",
              "    </tr>\n",
              "    <tr>\n",
              "      <th>Accident_severity</th>\n",
              "      <th></th>\n",
              "    </tr>\n",
              "  </thead>\n",
              "  <tbody>\n",
              "    <tr>\n",
              "      <th>Slight Injury</th>\n",
              "      <td>10415</td>\n",
              "    </tr>\n",
              "    <tr>\n",
              "      <th>Serious Injury</th>\n",
              "      <td>1743</td>\n",
              "    </tr>\n",
              "    <tr>\n",
              "      <th>Fatal injury</th>\n",
              "      <td>158</td>\n",
              "    </tr>\n",
              "  </tbody>\n",
              "</table><br><label><b>dtype:</b> int64</label>"
            ]
          },
          "metadata": {},
          "execution_count": 375
        }
      ]
    },
    {
      "cell_type": "code",
      "source": [
        "import seaborn as sns\n",
        "import matplotlib.pyplot as plt\n",
        "#sns.pairplot(data)\n",
        "#sns.pairplot(data,height=2.5)\n",
        "sns.pairplot(data,hue='Accident_severity',diag_kind=\"hist\")\n",
        "#here we observe the Accident Severity relation with some feature"
      ],
      "metadata": {
        "colab": {
          "base_uri": "https://localhost:8080/",
          "height": 531
        },
        "id": "fUVYWvwyFJfw",
        "outputId": "a1e70f9a-7d00-4691-e2a6-ead6bebd6fa0"
      },
      "id": "fUVYWvwyFJfw",
      "execution_count": 376,
      "outputs": [
        {
          "output_type": "execute_result",
          "data": {
            "text/plain": [
              "<seaborn.axisgrid.PairGrid at 0x7f74208cfd90>"
            ]
          },
          "metadata": {},
          "execution_count": 376
        },
        {
          "output_type": "display_data",
          "data": {
            "text/plain": [
              "<Figure size 645.125x500 with 6 Axes>"
            ],
            "image/png": "[encoded data removed]"
          },
          "metadata": {}
        }
      ]
    },
    {
      "cell_type": "code",
      "source": [
        "sns.pairplot(data,hue='Accident_severity',diag_kind=\"hist\")\n",
        "# i decid to"
      ],
      "metadata": {
        "colab": {
          "base_uri": "https://localhost:8080/",
          "height": 531
        },
        "id": "xsWfSCiSGWg3",
        "outputId": "8c34ae8c-e3dc-4199-cd8a-e8790c414fb6"
      },
      "id": "xsWfSCiSGWg3",
      "execution_count": 377,
      "outputs": [
        {
          "output_type": "execute_result",
          "data": {
            "text/plain": [
              "<seaborn.axisgrid.PairGrid at 0x7f741fd76830>"
            ]
          },
          "metadata": {},
          "execution_count": 377
        },
        {
          "output_type": "display_data",
          "data": {
            "text/plain": [
              "<Figure size 645.125x500 with 6 Axes>"
            ],
            "image/png": "[encoded data removed]"
          },
          "metadata": {}
        }
      ]
    },
    {
      "cell_type": "markdown",
      "source": [
        "i decide to take some of feature to predict the Accident severity"
      ],
      "metadata": {
        "id": "XV9g30EdWtE_"
      },
      "id": "XV9g30EdWtE_"
    },
    {
      "cell_type": "markdown",
      "id": "bccfb706",
      "metadata": {
        "id": "bccfb706"
      },
      "source": [
        "## Data Preprocessing\n",
        "Data preprocessing is essential for transforming raw data into a format suitable for further analysis and modeling. Follow these steps to ensure your data is ready for predictive modeling or advanced analytics:\n",
        "- **Handling Missing Values**: Replace missing values with appropriate statistics (mean, median, mode) or use more complex imputation techniques.\n",
        "- **Normalization/Scaling**: Scale data to a small, specified range like 0 to 1, or transform it to have a mean of zero and a standard deviation of one.\n",
        "- **Label Encoding**: Convert categorical text data into model-understandable numbers where the labels are ordered.\n",
        "- **One-Hot Encoding**: Use for nominal categorical data where no ordinal relationship exists to transform the data into a binary column for each category. (Be careful not to increase the dimensionality significantly)\n",
        "- **Detection and Treatment of Outliers**: Use statistical tests, box plots, or scatter plots to identify outliers and then cap, trim, or use robust methods to reduce the effect of outliers, depending on the context.\n",
        "- **Feature Engineering**: Enhance your dataset by creating new features and transforming existing ones. This might involve combining data from different columns, applying transformations, or reducing dimensionality with techniques like PCA to improve model performance.\n",
        "\n",
        "Consider these steps as a foundation, and feel free to introduce additional preprocessing techniques as needed to address specific characteristics of your dataset."
      ]
    },
    {
      "cell_type": "code",
      "source": [
        "##here we divide the data to make the appropriate changes depend on the data type\n",
        "numeric_data=data.select_dtypes(include=['int64'])\n",
        "categorical_data=data.select_dtypes(include=['object'])\n",
        "print(categorical_data.head())\n",
        "print(numeric_data.value_counts())"
      ],
      "metadata": {
        "colab": {
          "base_uri": "https://localhost:8080/"
        },
        "id": "VFEGYCPtJSTm",
        "outputId": "e184d828-f53c-4ef0-8621-2dcdc826b4eb"
      },
      "id": "VFEGYCPtJSTm",
      "execution_count": 378,
      "outputs": [
        {
          "output_type": "stream",
          "name": "stdout",
          "text": [
            "       Time Day_of_week Age_band_of_driver Sex_of_driver   Educational_level  \\\n",
            "0  17:02:00      Monday              18-30          Male   Above high school   \n",
            "1  17:02:00      Monday              31-50          Male  Junior high school   \n",
            "2  17:02:00      Monday              18-30          Male  Junior high school   \n",
            "3   1:06:00      Sunday              18-30          Male  Junior high school   \n",
            "4   1:06:00      Sunday              18-30          Male  Junior high school   \n",
            "\n",
            "  Vehicle_driver_relation Driving_experience      Type_of_vehicle  \\\n",
            "0                Employee              1-2yr           Automobile   \n",
            "1                Employee         Above 10yr  Public (> 45 seats)   \n",
            "2                Employee              1-2yr      Lorry (41?100Q)   \n",
            "3                Employee             5-10yr  Public (> 45 seats)   \n",
            "4                Employee              2-5yr                  NaN   \n",
            "\n",
            "  Owner_of_vehicle Service_year_of_vehicle  ... Vehicle_movement  \\\n",
            "0            Owner              Above 10yr  ...   Going straight   \n",
            "1            Owner                 5-10yrs  ...   Going straight   \n",
            "2            Owner                     NaN  ...   Going straight   \n",
            "3     Governmental                     NaN  ...   Going straight   \n",
            "4            Owner                 5-10yrs  ...   Going straight   \n",
            "\n",
            "    Casualty_class Sex_of_casualty Age_band_of_casualty Casualty_severity  \\\n",
            "0               na              na                   na                na   \n",
            "1               na              na                   na                na   \n",
            "2  Driver or rider            Male                31-50                 3   \n",
            "3       Pedestrian          Female                18-30                 3   \n",
            "4               na              na                   na                na   \n",
            "\n",
            "  Work_of_casuality Fitness_of_casuality Pedestrian_movement  \\\n",
            "0               NaN                  NaN    Not a Pedestrian   \n",
            "1               NaN                  NaN    Not a Pedestrian   \n",
            "2            Driver                  NaN    Not a Pedestrian   \n",
            "3            Driver               Normal    Not a Pedestrian   \n",
            "4               NaN                  NaN    Not a Pedestrian   \n",
            "\n",
            "            Cause_of_accident Accident_severity  \n",
            "0             Moving Backward     Slight Injury  \n",
            "1                  Overtaking     Slight Injury  \n",
            "2   Changing lane to the left    Serious Injury  \n",
            "3  Changing lane to the right     Slight Injury  \n",
            "4                  Overtaking     Slight Injury  \n",
            "\n",
            "[5 rows x 30 columns]\n",
            "Number_of_vehicles_involved  Number_of_casualties\n",
            "2                            1                       5803\n",
            "1                            1                       1635\n",
            "2                            2                       1530\n",
            "3                            1                        774\n",
            "2                            3                        610\n",
            "3                            2                        380\n",
            "1                            2                        266\n",
            "3                            3                        232\n",
            "2                            4                        225\n",
            "4                            1                        160\n",
            "3                            4                        103\n",
            "2                            5                        101\n",
            "4                            2                         90\n",
            "3                            5                         60\n",
            "1                            4                         56\n",
            "2                            6                         49\n",
            "4                            5                         46\n",
            "1                            3                         39\n",
            "4                            3                         28\n",
            "6                            2                         24\n",
            "4                            6                         21\n",
            "3                            6                         19\n",
            "6                            1                         18\n",
            "2                            7                         14\n",
            "4                            4                         10\n",
            "2                            8                          8\n",
            "4                            7                          8\n",
            "7                            1                          7\n",
            "Name: count, dtype: int64\n"
          ]
        }
      ]
    },
    {
      "cell_type": "code",
      "execution_count": 379,
      "id": "14c4a6fd",
      "metadata": {
        "id": "14c4a6fd",
        "colab": {
          "base_uri": "https://localhost:8080/",
          "height": 1000
        },
        "outputId": "efc72027-dd5b-44cb-f6e3-a2eecbca687d"
      },
      "outputs": [
        {
          "output_type": "execute_result",
          "data": {
            "text/plain": [
              "Time                          0\n",
              "Day_of_week                   0\n",
              "Age_band_of_driver            0\n",
              "Sex_of_driver                 0\n",
              "Educational_level           741\n",
              "Vehicle_driver_relation     579\n",
              "Driving_experience          829\n",
              "Type_of_vehicle             950\n",
              "Owner_of_vehicle            482\n",
              "Service_year_of_vehicle    3928\n",
              "Defect_of_vehicle          4427\n",
              "Area_accident_occured       239\n",
              "Lanes_or_Medians            385\n",
              "Road_allignment             142\n",
              "Types_of_Junction           887\n",
              "Road_surface_type           172\n",
              "Road_surface_conditions       0\n",
              "Light_conditions              0\n",
              "Weather_conditions            0\n",
              "Type_of_collision           155\n",
              "Vehicle_movement            308\n",
              "Casualty_class                0\n",
              "Sex_of_casualty               0\n",
              "Age_band_of_casualty          0\n",
              "Casualty_severity             0\n",
              "Work_of_casuality          3198\n",
              "Fitness_of_casuality       2635\n",
              "Pedestrian_movement           0\n",
              "Cause_of_accident             0\n",
              "Accident_severity             0\n",
              "dtype: int64"
            ],
            "text/html": [
              "<table border=\"1\" class=\"dataframe\">\n",
              "  <thead>\n",
              "    <tr style=\"text-align: right;\">\n",
              "      <th></th>\n",
              "      <th>0</th>\n",
              "    </tr>\n",
              "  </thead>\n",
              "  <tbody>\n",
              "    <tr>\n",
              "      <th>Time</th>\n",
              "      <td>0</td>\n",
              "    </tr>\n",
              "    <tr>\n",
              "      <th>Day_of_week</th>\n",
              "      <td>0</td>\n",
              "    </tr>\n",
              "    <tr>\n",
              "      <th>Age_band_of_driver</th>\n",
              "      <td>0</td>\n",
              "    </tr>\n",
              "    <tr>\n",
              "      <th>Sex_of_driver</th>\n",
              "      <td>0</td>\n",
              "    </tr>\n",
              "    <tr>\n",
              "      <th>Educational_level</th>\n",
              "      <td>741</td>\n",
              "    </tr>\n",
              "    <tr>\n",
              "      <th>Vehicle_driver_relation</th>\n",
              "      <td>579</td>\n",
              "    </tr>\n",
              "    <tr>\n",
              "      <th>Driving_experience</th>\n",
              "      <td>829</td>\n",
              "    </tr>\n",
              "    <tr>\n",
              "      <th>Type_of_vehicle</th>\n",
              "      <td>950</td>\n",
              "    </tr>\n",
              "    <tr>\n",
              "      <th>Owner_of_vehicle</th>\n",
              "      <td>482</td>\n",
              "    </tr>\n",
              "    <tr>\n",
              "      <th>Service_year_of_vehicle</th>\n",
              "      <td>3928</td>\n",
              "    </tr>\n",
              "    <tr>\n",
              "      <th>Defect_of_vehicle</th>\n",
              "      <td>4427</td>\n",
              "    </tr>\n",
              "    <tr>\n",
              "      <th>Area_accident_occured</th>\n",
              "      <td>239</td>\n",
              "    </tr>\n",
              "    <tr>\n",
              "      <th>Lanes_or_Medians</th>\n",
              "      <td>385</td>\n",
              "    </tr>\n",
              "    <tr>\n",
              "      <th>Road_allignment</th>\n",
              "      <td>142</td>\n",
              "    </tr>\n",
              "    <tr>\n",
              "      <th>Types_of_Junction</th>\n",
              "      <td>887</td>\n",
              "    </tr>\n",
              "    <tr>\n",
              "      <th>Road_surface_type</th>\n",
              "      <td>172</td>\n",
              "    </tr>\n",
              "    <tr>\n",
              "      <th>Road_surface_conditions</th>\n",
              "      <td>0</td>\n",
              "    </tr>\n",
              "    <tr>\n",
              "      <th>Light_conditions</th>\n",
              "      <td>0</td>\n",
              "    </tr>\n",
              "    <tr>\n",
              "      <th>Weather_conditions</th>\n",
              "      <td>0</td>\n",
              "    </tr>\n",
              "    <tr>\n",
              "      <th>Type_of_collision</th>\n",
              "      <td>155</td>\n",
              "    </tr>\n",
              "    <tr>\n",
              "      <th>Vehicle_movement</th>\n",
              "      <td>308</td>\n",
              "    </tr>\n",
              "    <tr>\n",
              "      <th>Casualty_class</th>\n",
              "      <td>0</td>\n",
              "    </tr>\n",
              "    <tr>\n",
              "      <th>Sex_of_casualty</th>\n",
              "      <td>0</td>\n",
              "    </tr>\n",
              "    <tr>\n",
              "      <th>Age_band_of_casualty</th>\n",
              "      <td>0</td>\n",
              "    </tr>\n",
              "    <tr>\n",
              "      <th>Casualty_severity</th>\n",
              "      <td>0</td>\n",
              "    </tr>\n",
              "    <tr>\n",
              "      <th>Work_of_casuality</th>\n",
              "      <td>3198</td>\n",
              "    </tr>\n",
              "    <tr>\n",
              "      <th>Fitness_of_casuality</th>\n",
              "      <td>2635</td>\n",
              "    </tr>\n",
              "    <tr>\n",
              "      <th>Pedestrian_movement</th>\n",
              "      <td>0</td>\n",
              "    </tr>\n",
              "    <tr>\n",
              "      <th>Cause_of_accident</th>\n",
              "      <td>0</td>\n",
              "    </tr>\n",
              "    <tr>\n",
              "      <th>Accident_severity</th>\n",
              "      <td>0</td>\n",
              "    </tr>\n",
              "  </tbody>\n",
              "</table><br><label><b>dtype:</b> int64</label>"
            ]
          },
          "metadata": {},
          "execution_count": 379
        }
      ],
      "source": [
        "#Handling Missing Values:\n",
        "categorical_data.isna().sum()"
      ]
    },
    {
      "cell_type": "code",
      "source": [
        "for column in categorical_data.select_dtypes(include=['object']):\n",
        "    mode_value = categorical_data[column].mode()[0]\n",
        "    categorical_data[column] = categorical_data[column].fillna(mode_value)"
      ],
      "metadata": {
        "id": "--u-ZLSZOq07"
      },
      "id": "--u-ZLSZOq07",
      "execution_count": 380,
      "outputs": []
    },
    {
      "cell_type": "code",
      "source": [
        "#see the object null and dell with it with the mean and here i represent the table before and after\n",
        "print(categorical_data.select_dtypes(include=['object']).isna().sum())\n",
        "for column in categorical_data.columns:\n",
        "    mode_value = categorical_data[column].mode()[0]\n",
        "    categorical_data[column].replace('na',categorical_data[column].mode()[0])\n",
        "\n",
        "print(categorical_data.select_dtypes(include=['object']).isna().sum())\n"
      ],
      "metadata": {
        "colab": {
          "base_uri": "https://localhost:8080/"
        },
        "id": "d5GAA2ODG-dg",
        "outputId": "f338e1f3-c5ed-4f6d-dac7-4815c26ed891"
      },
      "id": "d5GAA2ODG-dg",
      "execution_count": 381,
      "outputs": [
        {
          "output_type": "stream",
          "name": "stdout",
          "text": [
            "Time                       0\n",
            "Day_of_week                0\n",
            "Age_band_of_driver         0\n",
            "Sex_of_driver              0\n",
            "Educational_level          0\n",
            "Vehicle_driver_relation    0\n",
            "Driving_experience         0\n",
            "Type_of_vehicle            0\n",
            "Owner_of_vehicle           0\n",
            "Service_year_of_vehicle    0\n",
            "Defect_of_vehicle          0\n",
            "Area_accident_occured      0\n",
            "Lanes_or_Medians           0\n",
            "Road_allignment            0\n",
            "Types_of_Junction          0\n",
            "Road_surface_type          0\n",
            "Road_surface_conditions    0\n",
            "Light_conditions           0\n",
            "Weather_conditions         0\n",
            "Type_of_collision          0\n",
            "Vehicle_movement           0\n",
            "Casualty_class             0\n",
            "Sex_of_casualty            0\n",
            "Age_band_of_casualty       0\n",
            "Casualty_severity          0\n",
            "Work_of_casuality          0\n",
            "Fitness_of_casuality       0\n",
            "Pedestrian_movement        0\n",
            "Cause_of_accident          0\n",
            "Accident_severity          0\n",
            "dtype: int64\n",
            "Time                       0\n",
            "Day_of_week                0\n",
            "Age_band_of_driver         0\n",
            "Sex_of_driver              0\n",
            "Educational_level          0\n",
            "Vehicle_driver_relation    0\n",
            "Driving_experience         0\n",
            "Type_of_vehicle            0\n",
            "Owner_of_vehicle           0\n",
            "Service_year_of_vehicle    0\n",
            "Defect_of_vehicle          0\n",
            "Area_accident_occured      0\n",
            "Lanes_or_Medians           0\n",
            "Road_allignment            0\n",
            "Types_of_Junction          0\n",
            "Road_surface_type          0\n",
            "Road_surface_conditions    0\n",
            "Light_conditions           0\n",
            "Weather_conditions         0\n",
            "Type_of_collision          0\n",
            "Vehicle_movement           0\n",
            "Casualty_class             0\n",
            "Sex_of_casualty            0\n",
            "Age_band_of_casualty       0\n",
            "Casualty_severity          0\n",
            "Work_of_casuality          0\n",
            "Fitness_of_casuality       0\n",
            "Pedestrian_movement        0\n",
            "Cause_of_accident          0\n",
            "Accident_severity          0\n",
            "dtype: int64\n"
          ]
        }
      ]
    },
    {
      "cell_type": "code",
      "source": [
        "print(numeric_data.isna().sum())\n",
        "numeric_data.describe()\n",
        "# no null value in numeric_data"
      ],
      "metadata": {
        "colab": {
          "base_uri": "https://localhost:8080/",
          "height": 355
        },
        "id": "Jj_tQpj4WBY2",
        "outputId": "2c6f223e-4d5c-4297-87e0-4ba4fe4f1e41"
      },
      "id": "Jj_tQpj4WBY2",
      "execution_count": 382,
      "outputs": [
        {
          "output_type": "stream",
          "name": "stdout",
          "text": [
            "Number_of_vehicles_involved    0\n",
            "Number_of_casualties           0\n",
            "dtype: int64\n"
          ]
        },
        {
          "output_type": "execute_result",
          "data": {
            "text/plain": [
              "       Number_of_vehicles_involved  Number_of_casualties\n",
              "count                 12316.000000          12316.000000\n",
              "mean                      2.040679              1.548149\n",
              "std                       0.688790              1.007179\n",
              "min                       1.000000              1.000000\n",
              "25%                       2.000000              1.000000\n",
              "50%                       2.000000              1.000000\n",
              "75%                       2.000000              2.000000\n",
              "max                       7.000000              8.000000"
            ],
            "text/html": [
              "\n",
              "  <div id=\"df-77c365a5-b67e-414a-8f4f-f3f66b5148b0\" class=\"colab-df-container\">\n",
              "    <div>\n",
              "<style scoped>\n",
              "    .dataframe tbody tr th:only-of-type {\n",
              "        vertical-align: middle;\n",
              "    }\n",
              "\n",
              "    .dataframe tbody tr th {\n",
              "        vertical-align: top;\n",
              "    }\n",
              "\n",
              "    .dataframe thead th {\n",
              "        text-align: right;\n",
              "    }\n",
              "</style>\n",
              "<table border=\"1\" class=\"dataframe\">\n",
              "  <thead>\n",
              "    <tr style=\"text-align: right;\">\n",
              "      <th></th>\n",
              "      <th>Number_of_vehicles_involved</th>\n",
              "      <th>Number_of_casualties</th>\n",
              "    </tr>\n",
              "  </thead>\n",
              "  <tbody>\n",
              "    <tr>\n",
              "      <th>count</th>\n",
              "      <td>12316.000000</td>\n",
              "      <td>12316.000000</td>\n",
              "    </tr>\n",
              "    <tr>\n",
              "      <th>mean</th>\n",
              "      <td>2.040679</td>\n",
              "      <td>1.548149</td>\n",
              "    </tr>\n",
              "    <tr>\n",
              "      <th>std</th>\n",
              "      <td>0.688790</td>\n",
              "      <td>1.007179</td>\n",
              "    </tr>\n",
              "    <tr>\n",
              "      <th>min</th>\n",
              "      <td>1.000000</td>\n",
              "      <td>1.000000</td>\n",
              "    </tr>\n",
              "    <tr>\n",
              "      <th>25%</th>\n",
              "      <td>2.000000</td>\n",
              "      <td>1.000000</td>\n",
              "    </tr>\n",
              "    <tr>\n",
              "      <th>50%</th>\n",
              "      <td>2.000000</td>\n",
              "      <td>1.000000</td>\n",
              "    </tr>\n",
              "    <tr>\n",
              "      <th>75%</th>\n",
              "      <td>2.000000</td>\n",
              "      <td>2.000000</td>\n",
              "    </tr>\n",
              "    <tr>\n",
              "      <th>max</th>\n",
              "      <td>7.000000</td>\n",
              "      <td>8.000000</td>\n",
              "    </tr>\n",
              "  </tbody>\n",
              "</table>\n",
              "</div>\n",
              "    <div class=\"colab-df-buttons\">\n",
              "\n",
              "  <div class=\"colab-df-container\">\n",
              "    <button class=\"colab-df-convert\" onclick=\"convertToInteractive('df-77c365a5-b67e-414a-8f4f-f3f66b5148b0')\"\n",
              "            title=\"Convert this dataframe to an interactive table.\"\n",
              "            style=\"display:none;\">\n",
              "\n",
              "  <svg xmlns=\"http://www.w3.org/2000/svg\" height=\"24px\" viewBox=\"0 -960 960 960\">\n",
              "    <path d=\"M120-120v-720h720v720H120Zm60-500h600v-160H180v160Zm220 220h160v-160H400v160Zm0 220h160v-160H400v160ZM180-400h160v-160H180v160Zm440 0h160v-160H620v160ZM180-180h160v-160H180v160Zm440 0h160v-160H620v160Z\"/>\n",
              "  </svg>\n",
              "    </button>\n",
              "\n",
              "  <style>\n",
              "    .colab-df-container {\n",
              "      display:flex;\n",
              "      gap: 12px;\n",
              "    }\n",
              "\n",
              "    .colab-df-convert {\n",
              "      background-color: #E8F0FE;\n",
              "      border: none;\n",
              "      border-radius: 50%;\n",
              "      cursor: pointer;\n",
              "      display: none;\n",
              "      fill: #1967D2;\n",
              "      height: 32px;\n",
              "      padding: 0 0 0 0;\n",
              "      width: 32px;\n",
              "    }\n",
              "\n",
              "    .colab-df-convert:hover {\n",
              "      background-color: #E2EBFA;\n",
              "      box-shadow: 0px 1px 2px rgba(60, 64, 67, 0.3), 0px 1px 3px 1px rgba(60, 64, 67, 0.15);\n",
              "      fill: #174EA6;\n",
              "    }\n",
              "\n",
              "    .colab-df-buttons div {\n",
              "      margin-bottom: 4px;\n",
              "    }\n",
              "\n",
              "    [theme=dark] .colab-df-convert {\n",
              "      background-color: #3B4455;\n",
              "      fill: #D2E3FC;\n",
              "    }\n",
              "\n",
              "    [theme=dark] .colab-df-convert:hover {\n",
              "      background-color: #434B5C;\n",
              "      box-shadow: 0px 1px 3px 1px rgba(0, 0, 0, 0.15);\n",
              "      filter: drop-shadow(0px 1px 2px rgba(0, 0, 0, 0.3));\n",
              "      fill: #FFFFFF;\n",
              "    }\n",
              "  </style>\n",
              "\n",
              "    <script>\n",
              "      const buttonEl =\n",
              "        document.querySelector('#df-77c365a5-b67e-414a-8f4f-f3f66b5148b0 button.colab-df-convert');\n",
              "      buttonEl.style.display =\n",
              "        google.colab.kernel.accessAllowed ? 'block' : 'none';\n",
              "\n",
              "      async function convertToInteractive(key) {\n",
              "        const element = document.querySelector('#df-77c365a5-b67e-414a-8f4f-f3f66b5148b0');\n",
              "        const dataTable =\n",
              "          await google.colab.kernel.invokeFunction('convertToInteractive',\n",
              "                                                    [key], {});\n",
              "        if (!dataTable) return;\n",
              "\n",
              "        const docLinkHtml = 'Like what you see? Visit the ' +\n",
              "          '<a target=\"_blank\" href=https://colab.research.google.com/notebooks/data_table.ipynb>data table notebook</a>'\n",
              "          + ' to learn more about interactive tables.';\n",
              "        element.innerHTML = '';\n",
              "        dataTable['output_type'] = 'display_data';\n",
              "        await google.colab.output.renderOutput(dataTable, element);\n",
              "        const docLink = document.createElement('div');\n",
              "        docLink.innerHTML = docLinkHtml;\n",
              "        element.appendChild(docLink);\n",
              "      }\n",
              "    </script>\n",
              "  </div>\n",
              "\n",
              "\n",
              "<div id=\"df-9a04585b-01c0-402f-9fc6-4e3c4ba71b81\">\n",
              "  <button class=\"colab-df-quickchart\" onclick=\"quickchart('df-9a04585b-01c0-402f-9fc6-4e3c4ba71b81')\"\n",
              "            title=\"Suggest charts\"\n",
              "            style=\"display:none;\">\n",
              "\n",
              "<svg xmlns=\"http://www.w3.org/2000/svg\" height=\"24px\"viewBox=\"0 0 24 24\"\n",
              "     width=\"24px\">\n",
              "    <g>\n",
              "        <path d=\"M19 3H5c-1.1 0-2 .9-2 2v14c0 1.1.9 2 2 2h14c1.1 0 2-.9 2-2V5c0-1.1-.9-2-2-2zM9 17H7v-7h2v7zm4 0h-2V7h2v10zm4 0h-2v-4h2v4z\"/>\n",
              "    </g>\n",
              "</svg>\n",
              "  </button>\n",
              "\n",
              "<style>\n",
              "  .colab-df-quickchart {\n",
              "      --bg-color: #E8F0FE;\n",
              "      --fill-color: #1967D2;\n",
              "      --hover-bg-color: #E2EBFA;\n",
              "      --hover-fill-color: #174EA6;\n",
              "      --disabled-fill-color: #AAA;\n",
              "      --disabled-bg-color: #DDD;\n",
              "  }\n",
              "\n",
              "  [theme=dark] .colab-df-quickchart {\n",
              "      --bg-color: #3B4455;\n",
              "      --fill-color: #D2E3FC;\n",
              "      --hover-bg-color: #434B5C;\n",
              "      --hover-fill-color: #FFFFFF;\n",
              "      --disabled-bg-color: #3B4455;\n",
              "      --disabled-fill-color: #666;\n",
              "  }\n",
              "\n",
              "  .colab-df-quickchart {\n",
              "    background-color: var(--bg-color);\n",
              "    border: none;\n",
              "    border-radius: 50%;\n",
              "    cursor: pointer;\n",
              "    display: none;\n",
              "    fill: var(--fill-color);\n",
              "    height: 32px;\n",
              "    padding: 0;\n",
              "    width: 32px;\n",
              "  }\n",
              "\n",
              "  .colab-df-quickchart:hover {\n",
              "    background-color: var(--hover-bg-color);\n",
              "    box-shadow: 0 1px 2px rgba(60, 64, 67, 0.3), 0 1px 3px 1px rgba(60, 64, 67, 0.15);\n",
              "    fill: var(--button-hover-fill-color);\n",
              "  }\n",
              "\n",
              "  .colab-df-quickchart-complete:disabled,\n",
              "  .colab-df-quickchart-complete:disabled:hover {\n",
              "    background-color: var(--disabled-bg-color);\n",
              "    fill: var(--disabled-fill-color);\n",
              "    box-shadow: none;\n",
              "  }\n",
              "\n",
              "  .colab-df-spinner {\n",
              "    border: 2px solid var(--fill-color);\n",
              "    border-color: transparent;\n",
              "    border-bottom-color: var(--fill-color);\n",
              "    animation:\n",
              "      spin 1s steps(1) infinite;\n",
              "  }\n",
              "\n",
              "  @keyframes spin {\n",
              "    0% {\n",
              "      border-color: transparent;\n",
              "      border-bottom-color: var(--fill-color);\n",
              "      border-left-color: var(--fill-color);\n",
              "    }\n",
              "    20% {\n",
              "      border-color: transparent;\n",
              "      border-left-color: var(--fill-color);\n",
              "      border-top-color: var(--fill-color);\n",
              "    }\n",
              "    30% {\n",
              "      border-color: transparent;\n",
              "      border-left-color: var(--fill-color);\n",
              "      border-top-color: var(--fill-color);\n",
              "      border-right-color: var(--fill-color);\n",
              "    }\n",
              "    40% {\n",
              "      border-color: transparent;\n",
              "      border-right-color: var(--fill-color);\n",
              "      border-top-color: var(--fill-color);\n",
              "    }\n",
              "    60% {\n",
              "      border-color: transparent;\n",
              "      border-right-color: var(--fill-color);\n",
              "    }\n",
              "    80% {\n",
              "      border-color: transparent;\n",
              "      border-right-color: var(--fill-color);\n",
              "      border-bottom-color: var(--fill-color);\n",
              "    }\n",
              "    90% {\n",
              "      border-color: transparent;\n",
              "      border-bottom-color: var(--fill-color);\n",
              "    }\n",
              "  }\n",
              "</style>\n",
              "\n",
              "  <script>\n",
              "    async function quickchart(key) {\n",
              "      const quickchartButtonEl =\n",
              "        document.querySelector('#' + key + ' button');\n",
              "      quickchartButtonEl.disabled = true;  // To prevent multiple clicks.\n",
              "      quickchartButtonEl.classList.add('colab-df-spinner');\n",
              "      try {\n",
              "        const charts = await google.colab.kernel.invokeFunction(\n",
              "            'suggestCharts', [key], {});\n",
              "      } catch (error) {\n",
              "        console.error('Error during call to suggestCharts:', error);\n",
              "      }\n",
              "      quickchartButtonEl.classList.remove('colab-df-spinner');\n",
              "      quickchartButtonEl.classList.add('colab-df-quickchart-complete');\n",
              "    }\n",
              "    (() => {\n",
              "      let quickchartButtonEl =\n",
              "        document.querySelector('#df-9a04585b-01c0-402f-9fc6-4e3c4ba71b81 button');\n",
              "      quickchartButtonEl.style.display =\n",
              "        google.colab.kernel.accessAllowed ? 'block' : 'none';\n",
              "    })();\n",
              "  </script>\n",
              "</div>\n",
              "\n",
              "    </div>\n",
              "  </div>\n"
            ],
            "application/vnd.google.colaboratory.intrinsic+json": {
              "type": "dataframe",
              "summary": "{\n  \"name\": \"# no null value in numeric_data\",\n  \"rows\": 8,\n  \"fields\": [\n    {\n      \"column\": \"Number_of_vehicles_involved\",\n      \"properties\": {\n        \"dtype\": \"number\",\n        \"std\": 4353.519030149126,\n        \"min\": 0.6887896452620738,\n        \"max\": 12316.0,\n        \"num_unique_values\": 6,\n        \"samples\": [\n          12316.0,\n          2.0406787918155245,\n          7.0\n        ],\n        \"semantic_type\": \"\",\n        \"description\": \"\"\n      }\n    },\n    {\n      \"column\": \"Number_of_casualties\",\n      \"properties\": {\n        \"dtype\": \"number\",\n        \"std\": 4353.578549582754,\n        \"min\": 1.0,\n        \"max\": 12316.0,\n        \"num_unique_values\": 6,\n        \"samples\": [\n          12316.0,\n          1.548148749594024,\n          8.0\n        ],\n        \"semantic_type\": \"\",\n        \"description\": \"\"\n      }\n    }\n  ]\n}"
            }
          },
          "metadata": {},
          "execution_count": 382
        }
      ]
    },
    {
      "cell_type": "code",
      "source": [
        "print(categorical_data.value_counts())"
      ],
      "metadata": {
        "colab": {
          "base_uri": "https://localhost:8080/"
        },
        "id": "Sog-NVUdSLwX",
        "outputId": "afafe9bb-3ea4-4a8e-90e7-5b118ef10b86"
      },
      "id": "Sog-NVUdSLwX",
      "execution_count": 383,
      "outputs": [
        {
          "output_type": "stream",
          "name": "stdout",
          "text": [
            "Time      Day_of_week  Age_band_of_driver  Sex_of_driver  Educational_level   Vehicle_driver_relation  Driving_experience  Type_of_vehicle       Owner_of_vehicle  Service_year_of_vehicle  Defect_of_vehicle  Area_accident_occured  Lanes_or_Medians                                  Road_allignment                            Types_of_Junction  Road_surface_type  Road_surface_conditions  Light_conditions       Weather_conditions  Type_of_collision               Vehicle_movement  Casualty_class   Sex_of_casualty  Age_band_of_casualty  Casualty_severity  Work_of_casuality  Fitness_of_casuality  Pedestrian_movement  Cause_of_accident           Accident_severity\n",
            "0:01:00   Friday       18-30               Male           Junior high school  Employee                 2-5yr               Other                 Governmental      Unknown                  No defect          Residential areas      other                                             Tangent road with flat terrain             Crossing           Asphalt roads      Dry                      Darkness - lights lit  Normal              Vehicle with vehicle collision  Going straight    Driver or rider  Female           5                     3                  Driver             Normal                Not a Pedestrian     Driving to the left         Serious Injury       1\n",
            "19:57:00  Friday       Under 18            Male           High school         Owner                    Above 10yr          Stationwagen          Governmental      Unknown                  No defect          Office areas           One way                                           Tangent road with flat terrain             Crossing           Asphalt roads      Dry                      Darkness - lights lit  Normal              Vehicle with vehicle collision  Going straight    Driver or rider  Male             18-30                 3                  Self-employed      Normal                Not a Pedestrian     Driving carelessly          Slight Injury        1\n",
            "1:40:00   Saturday     Unknown             Female         Junior high school  Employee                 5-10yr              Long lorry            Owner             Unknown                  No defect          Office areas           Undivided Two way                                 Tangent road with flat terrain             Y Shape            Asphalt roads      Dry                      Darkness - lights lit  Normal              Rollover                        Going straight    na               na               na                    na                 Driver             Normal                Not a Pedestrian     No priority to pedestrian   Slight Injury        1\n",
            "1:44:00   Saturday     Under 18            Male           Junior high school  Employee                 2-5yr               Lorry (41?100Q)       Owner             Unknown                  No defect          Other                  Two-way (divided with broken lines road marking)  Tangent road with flat terrain             No junction        Gravel roads       Wet or damp              Darkness - lights lit  Raining             Vehicle with vehicle collision  Moving Backward   na               na               na                    na                 Driver             Normal                Not a Pedestrian     No distancing               Slight Injury        1\n",
            "1:46:00   Friday       18-30               Male           Elementary school   Employee                 5-10yr              Public (13?45 seats)  Owner             Unknown                  No defect           Church areas          Undivided Two way                                 Tangent road with flat terrain             Crossing           Asphalt roads      Dry                      Darkness - lights lit  Normal              Vehicle with vehicle collision  Going straight    Pedestrian       Male             31-50                 2                  Driver             Normal                Unknown or other     No priority to vehicle      Slight Injury        1\n",
            "                                                                                                                                                                                                                                                                                                                                                                                                                                                                                                                                                                                                                                                                                        ..\n",
            "15:44:00  Tuesday      31-50               Male           Junior high school  Employee                 2-5yr               Public (12 seats)     Owner             Unknown                  No defect          Other                  Two-way (divided with broken lines road marking)  Tangent road with flat terrain             Y Shape            Asphalt roads      Dry                      Daylight               Other               Vehicle with vehicle collision  Going straight    Driver or rider  Female           18-30                 2                  Driver             Normal                Not a Pedestrian     Moving Backward             Slight Injury        1\n",
            "                                                                                                       Above 10yr          Automobile            Organization      2-5yrs                   No defect          Office areas           Two-way (divided with broken lines road marking)  Tangent road with mountainous terrain and  Y Shape            Asphalt roads      Dry                      Daylight               Other               Vehicle with vehicle collision  Going straight    Passenger        Female           Under 18              3                  Driver             Normal                Not a Pedestrian     Changing lane to the right  Slight Injury        1\n",
            "15:45:00  Friday       18-30               Male           Elementary school   Employee                 1-2yr               Special vehicle       Governmental      1-2yr                    No defect          Other                  Double carriageway (median)                       Tangent road with flat terrain             Y Shape            Earth roads        Wet or damp              Daylight               Normal              Vehicle with vehicle collision  Reversing         Passenger        Female           18-30                 3                  Driver             Normal                Not a Pedestrian     No distancing               Slight Injury        1\n",
            "                                                                              Owner                    2-5yr               Long lorry            Owner             Unknown                  No defect          Other                  Two-way (divided with broken lines road marking)  Tangent road with flat terrain             No junction        Asphalt roads      Dry                      Daylight               Normal              Vehicle with vehicle collision  Going straight    Driver or rider  Male             18-30                 3                  Driver             Normal                Not a Pedestrian     No priority to vehicle      Slight Injury        1\n",
            "9:59:00   Tuesday      Unknown             Male           Elementary school   Employee                 5-10yr              Public (13?45 seats)  Owner             Unknown                  No defect          Other                  Undivided Two way                                 Tangent road with flat terrain             No junction        Asphalt roads      Dry                      Daylight               Cloudy              Vehicle with vehicle collision  Going straight    na               na               na                    na                 Driver             Normal                Not a Pedestrian     No distancing               Slight Injury        1\n",
            "Name: count, Length: 12316, dtype: int64\n"
          ]
        }
      ]
    },
    {
      "cell_type": "code",
      "source": [
        "final_data.head()"
      ],
      "metadata": {
        "colab": {
          "base_uri": "https://localhost:8080/",
          "height": 273
        },
        "id": "StB5NJfEbk7g",
        "outputId": "131b707e-6fba-43aa-c366-0cbcda31f074"
      },
      "id": "StB5NJfEbk7g",
      "execution_count": 384,
      "outputs": [
        {
          "output_type": "execute_result",
          "data": {
            "text/plain": [
              "   Day_of_week_Friday  Day_of_week_Monday  Day_of_week_Saturday  \\\n",
              "0               False                True                 False   \n",
              "1               False                True                 False   \n",
              "2               False                True                 False   \n",
              "3               False               False                 False   \n",
              "4               False               False                 False   \n",
              "\n",
              "   Day_of_week_Sunday  Day_of_week_Thursday  Day_of_week_Tuesday  \\\n",
              "0               False                 False                False   \n",
              "1               False                 False                False   \n",
              "2               False                 False                False   \n",
              "3                True                 False                False   \n",
              "4                True                 False                False   \n",
              "\n",
              "   Day_of_week_Wednesday  Sex_of_driver_Female  Sex_of_driver_Male  \\\n",
              "0                  False                 False                True   \n",
              "1                  False                 False                True   \n",
              "2                  False                 False                True   \n",
              "3                  False                 False                True   \n",
              "4                  False                 False                True   \n",
              "\n",
              "   Sex_of_driver_Unknown  ...  Cause_of_accident_Overspeed  \\\n",
              "0                  False  ...                        False   \n",
              "1                  False  ...                        False   \n",
              "2                  False  ...                        False   \n",
              "3                  False  ...                        False   \n",
              "4                  False  ...                        False   \n",
              "\n",
              "   Cause_of_accident_Overtaking  Cause_of_accident_Overturning  \\\n",
              "0                         False                          False   \n",
              "1                          True                          False   \n",
              "2                         False                          False   \n",
              "3                         False                          False   \n",
              "4                          True                          False   \n",
              "\n",
              "   Cause_of_accident_Turnover  Cause_of_accident_Unknown  \\\n",
              "0                       False                      False   \n",
              "1                       False                      False   \n",
              "2                       False                      False   \n",
              "3                       False                      False   \n",
              "4                       False                      False   \n",
              "\n",
              "   Accident_severity_Fatal injury  Accident_severity_Serious Injury  \\\n",
              "0                           False                             False   \n",
              "1                           False                             False   \n",
              "2                           False                              True   \n",
              "3                           False                             False   \n",
              "4                           False                             False   \n",
              "\n",
              "   Accident_severity_Slight Injury  Number_of_vehicles_involved  \\\n",
              "0                             True                            2   \n",
              "1                             True                            2   \n",
              "2                            False                            2   \n",
              "3                             True                            2   \n",
              "4                             True                            2   \n",
              "\n",
              "   Number_of_casualties  \n",
              "0                     2  \n",
              "1                     2  \n",
              "2                     2  \n",
              "3                     2  \n",
              "4                     2  \n",
              "\n",
              "[5 rows x 194 columns]"
            ],
            "text/html": [
              "\n",
              "  <div id=\"df-a336f50b-a412-4a60-97f3-09d2920797d2\" class=\"colab-df-container\">\n",
              "    <div>\n",
              "<style scoped>\n",
              "    .dataframe tbody tr th:only-of-type {\n",
              "        vertical-align: middle;\n",
              "    }\n",
              "\n",
              "    .dataframe tbody tr th {\n",
              "        vertical-align: top;\n",
              "    }\n",
              "\n",
              "    .dataframe thead th {\n",
              "        text-align: right;\n",
              "    }\n",
              "</style>\n",
              "<table border=\"1\" class=\"dataframe\">\n",
              "  <thead>\n",
              "    <tr style=\"text-align: right;\">\n",
              "      <th></th>\n",
              "      <th>Day_of_week_Friday</th>\n",
              "      <th>Day_of_week_Monday</th>\n",
              "      <th>Day_of_week_Saturday</th>\n",
              "      <th>Day_of_week_Sunday</th>\n",
              "      <th>Day_of_week_Thursday</th>\n",
              "      <th>Day_of_week_Tuesday</th>\n",
              "      <th>Day_of_week_Wednesday</th>\n",
              "      <th>Sex_of_driver_Female</th>\n",
              "      <th>Sex_of_driver_Male</th>\n",
              "      <th>Sex_of_driver_Unknown</th>\n",
              "      <th>...</th>\n",
              "      <th>Cause_of_accident_Overspeed</th>\n",
              "      <th>Cause_of_accident_Overtaking</th>\n",
              "      <th>Cause_of_accident_Overturning</th>\n",
              "      <th>Cause_of_accident_Turnover</th>\n",
              "      <th>Cause_of_accident_Unknown</th>\n",
              "      <th>Accident_severity_Fatal injury</th>\n",
              "      <th>Accident_severity_Serious Injury</th>\n",
              "      <th>Accident_severity_Slight Injury</th>\n",
              "      <th>Number_of_vehicles_involved</th>\n",
              "      <th>Number_of_casualties</th>\n",
              "    </tr>\n",
              "  </thead>\n",
              "  <tbody>\n",
              "    <tr>\n",
              "      <th>0</th>\n",
              "      <td>False</td>\n",
              "      <td>True</td>\n",
              "      <td>False</td>\n",
              "      <td>False</td>\n",
              "      <td>False</td>\n",
              "      <td>False</td>\n",
              "      <td>False</td>\n",
              "      <td>False</td>\n",
              "      <td>True</td>\n",
              "      <td>False</td>\n",
              "      <td>...</td>\n",
              "      <td>False</td>\n",
              "      <td>False</td>\n",
              "      <td>False</td>\n",
              "      <td>False</td>\n",
              "      <td>False</td>\n",
              "      <td>False</td>\n",
              "      <td>False</td>\n",
              "      <td>True</td>\n",
              "      <td>2</td>\n",
              "      <td>2</td>\n",
              "    </tr>\n",
              "    <tr>\n",
              "      <th>1</th>\n",
              "      <td>False</td>\n",
              "      <td>True</td>\n",
              "      <td>False</td>\n",
              "      <td>False</td>\n",
              "      <td>False</td>\n",
              "      <td>False</td>\n",
              "      <td>False</td>\n",
              "      <td>False</td>\n",
              "      <td>True</td>\n",
              "      <td>False</td>\n",
              "      <td>...</td>\n",
              "      <td>False</td>\n",
              "      <td>True</td>\n",
              "      <td>False</td>\n",
              "      <td>False</td>\n",
              "      <td>False</td>\n",
              "      <td>False</td>\n",
              "      <td>False</td>\n",
              "      <td>True</td>\n",
              "      <td>2</td>\n",
              "      <td>2</td>\n",
              "    </tr>\n",
              "    <tr>\n",
              "      <th>2</th>\n",
              "      <td>False</td>\n",
              "      <td>True</td>\n",
              "      <td>False</td>\n",
              "      <td>False</td>\n",
              "      <td>False</td>\n",
              "      <td>False</td>\n",
              "      <td>False</td>\n",
              "      <td>False</td>\n",
              "      <td>True</td>\n",
              "      <td>False</td>\n",
              "      <td>...</td>\n",
              "      <td>False</td>\n",
              "      <td>False</td>\n",
              "      <td>False</td>\n",
              "      <td>False</td>\n",
              "      <td>False</td>\n",
              "      <td>False</td>\n",
              "      <td>True</td>\n",
              "      <td>False</td>\n",
              "      <td>2</td>\n",
              "      <td>2</td>\n",
              "    </tr>\n",
              "    <tr>\n",
              "      <th>3</th>\n",
              "      <td>False</td>\n",
              "      <td>False</td>\n",
              "      <td>False</td>\n",
              "      <td>True</td>\n",
              "      <td>False</td>\n",
              "      <td>False</td>\n",
              "      <td>False</td>\n",
              "      <td>False</td>\n",
              "      <td>True</td>\n",
              "      <td>False</td>\n",
              "      <td>...</td>\n",
              "      <td>False</td>\n",
              "      <td>False</td>\n",
              "      <td>False</td>\n",
              "      <td>False</td>\n",
              "      <td>False</td>\n",
              "      <td>False</td>\n",
              "      <td>False</td>\n",
              "      <td>True</td>\n",
              "      <td>2</td>\n",
              "      <td>2</td>\n",
              "    </tr>\n",
              "    <tr>\n",
              "      <th>4</th>\n",
              "      <td>False</td>\n",
              "      <td>False</td>\n",
              "      <td>False</td>\n",
              "      <td>True</td>\n",
              "      <td>False</td>\n",
              "      <td>False</td>\n",
              "      <td>False</td>\n",
              "      <td>False</td>\n",
              "      <td>True</td>\n",
              "      <td>False</td>\n",
              "      <td>...</td>\n",
              "      <td>False</td>\n",
              "      <td>True</td>\n",
              "      <td>False</td>\n",
              "      <td>False</td>\n",
              "      <td>False</td>\n",
              "      <td>False</td>\n",
              "      <td>False</td>\n",
              "      <td>True</td>\n",
              "      <td>2</td>\n",
              "      <td>2</td>\n",
              "    </tr>\n",
              "  </tbody>\n",
              "</table>\n",
              "<p>5 rows × 194 columns</p>\n",
              "</div>\n",
              "    <div class=\"colab-df-buttons\">\n",
              "\n",
              "  <div class=\"colab-df-container\">\n",
              "    <button class=\"colab-df-convert\" onclick=\"convertToInteractive('df-a336f50b-a412-4a60-97f3-09d2920797d2')\"\n",
              "            title=\"Convert this dataframe to an interactive table.\"\n",
              "            style=\"display:none;\">\n",
              "\n",
              "  <svg xmlns=\"http://www.w3.org/2000/svg\" height=\"24px\" viewBox=\"0 -960 960 960\">\n",
              "    <path d=\"M120-120v-720h720v720H120Zm60-500h600v-160H180v160Zm220 220h160v-160H400v160Zm0 220h160v-160H400v160ZM180-400h160v-160H180v160Zm440 0h160v-160H620v160ZM180-180h160v-160H180v160Zm440 0h160v-160H620v160Z\"/>\n",
              "  </svg>\n",
              "    </button>\n",
              "\n",
              "  <style>\n",
              "    .colab-df-container {\n",
              "      display:flex;\n",
              "      gap: 12px;\n",
              "    }\n",
              "\n",
              "    .colab-df-convert {\n",
              "      background-color: #E8F0FE;\n",
              "      border: none;\n",
              "      border-radius: 50%;\n",
              "      cursor: pointer;\n",
              "      display: none;\n",
              "      fill: #1967D2;\n",
              "      height: 32px;\n",
              "      padding: 0 0 0 0;\n",
              "      width: 32px;\n",
              "    }\n",
              "\n",
              "    .colab-df-convert:hover {\n",
              "      background-color: #E2EBFA;\n",
              "      box-shadow: 0px 1px 2px rgba(60, 64, 67, 0.3), 0px 1px 3px 1px rgba(60, 64, 67, 0.15);\n",
              "      fill: #174EA6;\n",
              "    }\n",
              "\n",
              "    .colab-df-buttons div {\n",
              "      margin-bottom: 4px;\n",
              "    }\n",
              "\n",
              "    [theme=dark] .colab-df-convert {\n",
              "      background-color: #3B4455;\n",
              "      fill: #D2E3FC;\n",
              "    }\n",
              "\n",
              "    [theme=dark] .colab-df-convert:hover {\n",
              "      background-color: #434B5C;\n",
              "      box-shadow: 0px 1px 3px 1px rgba(0, 0, 0, 0.15);\n",
              "      filter: drop-shadow(0px 1px 2px rgba(0, 0, 0, 0.3));\n",
              "      fill: #FFFFFF;\n",
              "    }\n",
              "  </style>\n",
              "\n",
              "    <script>\n",
              "      const buttonEl =\n",
              "        document.querySelector('#df-a336f50b-a412-4a60-97f3-09d2920797d2 button.colab-df-convert');\n",
              "      buttonEl.style.display =\n",
              "        google.colab.kernel.accessAllowed ? 'block' : 'none';\n",
              "\n",
              "      async function convertToInteractive(key) {\n",
              "        const element = document.querySelector('#df-a336f50b-a412-4a60-97f3-09d2920797d2');\n",
              "        const dataTable =\n",
              "          await google.colab.kernel.invokeFunction('convertToInteractive',\n",
              "                                                    [key], {});\n",
              "        if (!dataTable) return;\n",
              "\n",
              "        const docLinkHtml = 'Like what you see? Visit the ' +\n",
              "          '<a target=\"_blank\" href=https://colab.research.google.com/notebooks/data_table.ipynb>data table notebook</a>'\n",
              "          + ' to learn more about interactive tables.';\n",
              "        element.innerHTML = '';\n",
              "        dataTable['output_type'] = 'display_data';\n",
              "        await google.colab.output.renderOutput(dataTable, element);\n",
              "        const docLink = document.createElement('div');\n",
              "        docLink.innerHTML = docLinkHtml;\n",
              "        element.appendChild(docLink);\n",
              "      }\n",
              "    </script>\n",
              "  </div>\n",
              "\n",
              "\n",
              "<div id=\"df-26a166e6-905c-4265-a260-1b88cefeece5\">\n",
              "  <button class=\"colab-df-quickchart\" onclick=\"quickchart('df-26a166e6-905c-4265-a260-1b88cefeece5')\"\n",
              "            title=\"Suggest charts\"\n",
              "            style=\"display:none;\">\n",
              "\n",
              "<svg xmlns=\"http://www.w3.org/2000/svg\" height=\"24px\"viewBox=\"0 0 24 24\"\n",
              "     width=\"24px\">\n",
              "    <g>\n",
              "        <path d=\"M19 3H5c-1.1 0-2 .9-2 2v14c0 1.1.9 2 2 2h14c1.1 0 2-.9 2-2V5c0-1.1-.9-2-2-2zM9 17H7v-7h2v7zm4 0h-2V7h2v10zm4 0h-2v-4h2v4z\"/>\n",
              "    </g>\n",
              "</svg>\n",
              "  </button>\n",
              "\n",
              "<style>\n",
              "  .colab-df-quickchart {\n",
              "      --bg-color: #E8F0FE;\n",
              "      --fill-color: #1967D2;\n",
              "      --hover-bg-color: #E2EBFA;\n",
              "      --hover-fill-color: #174EA6;\n",
              "      --disabled-fill-color: #AAA;\n",
              "      --disabled-bg-color: #DDD;\n",
              "  }\n",
              "\n",
              "  [theme=dark] .colab-df-quickchart {\n",
              "      --bg-color: #3B4455;\n",
              "      --fill-color: #D2E3FC;\n",
              "      --hover-bg-color: #434B5C;\n",
              "      --hover-fill-color: #FFFFFF;\n",
              "      --disabled-bg-color: #3B4455;\n",
              "      --disabled-fill-color: #666;\n",
              "  }\n",
              "\n",
              "  .colab-df-quickchart {\n",
              "    background-color: var(--bg-color);\n",
              "    border: none;\n",
              "    border-radius: 50%;\n",
              "    cursor: pointer;\n",
              "    display: none;\n",
              "    fill: var(--fill-color);\n",
              "    height: 32px;\n",
              "    padding: 0;\n",
              "    width: 32px;\n",
              "  }\n",
              "\n",
              "  .colab-df-quickchart:hover {\n",
              "    background-color: var(--hover-bg-color);\n",
              "    box-shadow: 0 1px 2px rgba(60, 64, 67, 0.3), 0 1px 3px 1px rgba(60, 64, 67, 0.15);\n",
              "    fill: var(--button-hover-fill-color);\n",
              "  }\n",
              "\n",
              "  .colab-df-quickchart-complete:disabled,\n",
              "  .colab-df-quickchart-complete:disabled:hover {\n",
              "    background-color: var(--disabled-bg-color);\n",
              "    fill: var(--disabled-fill-color);\n",
              "    box-shadow: none;\n",
              "  }\n",
              "\n",
              "  .colab-df-spinner {\n",
              "    border: 2px solid var(--fill-color);\n",
              "    border-color: transparent;\n",
              "    border-bottom-color: var(--fill-color);\n",
              "    animation:\n",
              "      spin 1s steps(1) infinite;\n",
              "  }\n",
              "\n",
              "  @keyframes spin {\n",
              "    0% {\n",
              "      border-color: transparent;\n",
              "      border-bottom-color: var(--fill-color);\n",
              "      border-left-color: var(--fill-color);\n",
              "    }\n",
              "    20% {\n",
              "      border-color: transparent;\n",
              "      border-left-color: var(--fill-color);\n",
              "      border-top-color: var(--fill-color);\n",
              "    }\n",
              "    30% {\n",
              "      border-color: transparent;\n",
              "      border-left-color: var(--fill-color);\n",
              "      border-top-color: var(--fill-color);\n",
              "      border-right-color: var(--fill-color);\n",
              "    }\n",
              "    40% {\n",
              "      border-color: transparent;\n",
              "      border-right-color: var(--fill-color);\n",
              "      border-top-color: var(--fill-color);\n",
              "    }\n",
              "    60% {\n",
              "      border-color: transparent;\n",
              "      border-right-color: var(--fill-color);\n",
              "    }\n",
              "    80% {\n",
              "      border-color: transparent;\n",
              "      border-right-color: var(--fill-color);\n",
              "      border-bottom-color: var(--fill-color);\n",
              "    }\n",
              "    90% {\n",
              "      border-color: transparent;\n",
              "      border-bottom-color: var(--fill-color);\n",
              "    }\n",
              "  }\n",
              "</style>\n",
              "\n",
              "  <script>\n",
              "    async function quickchart(key) {\n",
              "      const quickchartButtonEl =\n",
              "        document.querySelector('#' + key + ' button');\n",
              "      quickchartButtonEl.disabled = true;  // To prevent multiple clicks.\n",
              "      quickchartButtonEl.classList.add('colab-df-spinner');\n",
              "      try {\n",
              "        const charts = await google.colab.kernel.invokeFunction(\n",
              "            'suggestCharts', [key], {});\n",
              "      } catch (error) {\n",
              "        console.error('Error during call to suggestCharts:', error);\n",
              "      }\n",
              "      quickchartButtonEl.classList.remove('colab-df-spinner');\n",
              "      quickchartButtonEl.classList.add('colab-df-quickchart-complete');\n",
              "    }\n",
              "    (() => {\n",
              "      let quickchartButtonEl =\n",
              "        document.querySelector('#df-26a166e6-905c-4265-a260-1b88cefeece5 button');\n",
              "      quickchartButtonEl.style.display =\n",
              "        google.colab.kernel.accessAllowed ? 'block' : 'none';\n",
              "    })();\n",
              "  </script>\n",
              "</div>\n",
              "\n",
              "    </div>\n",
              "  </div>\n"
            ],
            "application/vnd.google.colaboratory.intrinsic+json": {
              "type": "dataframe",
              "variable_name": "final_data"
            }
          },
          "metadata": {},
          "execution_count": 384
        }
      ]
    },
    {
      "cell_type": "markdown",
      "id": "292ab9c9",
      "metadata": {
        "id": "292ab9c9"
      },
      "source": [
        "## Data Visualization\n",
        "Create various plots to visualize the relationships in the data. Consider using the following to show different aspects of the data:\n",
        "\n",
        "* Heatmap of Correlation Matrix.\n",
        "* Line plots.\n",
        "* Scatter plots.\n",
        "* Histograms.\n",
        "* Boxplots.\n",
        "\n",
        "Use more if needed!"
      ]
    },
    {
      "cell_type": "code",
      "execution_count": 385,
      "id": "5cfa25ae",
      "metadata": {
        "id": "5cfa25ae",
        "colab": {
          "base_uri": "https://localhost:8080/",
          "height": 699
        },
        "outputId": "35d4e0fd-8d1e-4898-d4a1-33496aa6d041"
      },
      "outputs": [
        {
          "output_type": "display_data",
          "data": {
            "text/plain": [
              "<Figure size 1000x800 with 2 Axes>"
            ],
            "image/png": "[encoded data removed]"
          },
          "metadata": {}
        }
      ],
      "source": [
        "import seaborn as sns\n",
        "import matplotlib.pyplot as plt\n",
        "\n",
        "# Calculate the correlation matrix\n",
        "correlation_matrix = numeric_data.corr()\n",
        "\n",
        "# Create a heatmap\n",
        "plt.figure(figsize=(10, 8))  # Adjust figure size as needed\n",
        "sns.heatmap(correlation_matrix, annot=True, cmap='coolwarm')\n",
        "plt.title(\"Correlation Matrix Heatmap\")\n",
        "plt.show()"
      ]
    },
    {
      "cell_type": "code",
      "source": [
        "# Example: Line plot of a numeric feature over time\n",
        "plt.figure(figsize=(10, 6))\n",
        "sns.lineplot(x=data['Time'], y=numeric_data['Number_of_vehicles_involved'])\n",
        "plt.title(\"Number of Vehicles Involved Over Time\")\n",
        "plt.xlabel(\"Time\")\n",
        "plt.ylabel(\"Number of Vehicles\")\n",
        "plt.show()"
      ],
      "metadata": {
        "colab": {
          "base_uri": "https://localhost:8080/",
          "height": 564
        },
        "id": "VKKQlg-HojUx",
        "outputId": "229485f4-e4fb-437a-8695-d0aec91f8058"
      },
      "id": "VKKQlg-HojUx",
      "execution_count": 386,
      "outputs": [
        {
          "output_type": "display_data",
          "data": {
            "text/plain": [
              "<Figure size 1000x600 with 1 Axes>"
            ],
            "image/png": "[encoded data removed]"
          },
          "metadata": {}
        }
      ]
    },
    {
      "cell_type": "code",
      "source": [
        "# Example: Scatter plot of two numeric features Again\n",
        "plt.figure(figsize=(8, 6))\n",
        "sns.scatterplot(x=numeric_data['Number_of_vehicles_involved'], y=numeric_data['Number_of_casualties'], hue=data['Accident_severity'])\n",
        "plt.title(\"Scatter Plot of Vehicles Involved vs. Casualties\")\n",
        "plt.xlabel(\"Number of Vehicles Involved\")\n",
        "plt.ylabel(\"Number of Casualties\")\n",
        "plt.show()"
      ],
      "metadata": {
        "colab": {
          "base_uri": "https://localhost:8080/",
          "height": 564
        },
        "id": "nDHnpEnFoqgB",
        "outputId": "06c10593-0ae6-485a-c41c-c78af609b20a"
      },
      "id": "nDHnpEnFoqgB",
      "execution_count": 387,
      "outputs": [
        {
          "output_type": "display_data",
          "data": {
            "text/plain": [
              "<Figure size 800x600 with 1 Axes>"
            ],
            "image/png": "[encoded data removed]"
          },
          "metadata": {}
        }
      ]
    },
    {
      "cell_type": "code",
      "source": [
        "# Example: Histogram of a numeric feature\n",
        "plt.figure(figsize=(8, 6))\n",
        "sns.histplot(numeric_data['Number_of_casualties'], bins=10, kde=True)\n",
        "plt.title(\"Distribution of Number of Casualties\")\n",
        "plt.xlabel(\"Number of Casualties\")\n",
        "plt.ylabel(\"Frequency\")\n",
        "plt.show()\n",
        "#here we see that the high number of injers is not that much"
      ],
      "metadata": {
        "colab": {
          "base_uri": "https://localhost:8080/",
          "height": 564
        },
        "id": "zwCO70aio9Om",
        "outputId": "ccfa40b1-785f-4685-fba2-2b83e077c301"
      },
      "id": "zwCO70aio9Om",
      "execution_count": 388,
      "outputs": [
        {
          "output_type": "display_data",
          "data": {
            "text/plain": [
              "<Figure size 800x600 with 1 Axes>"
            ],
            "image/png": "[encoded data removed]"
          },
          "metadata": {}
        }
      ]
    },
    {
      "cell_type": "code",
      "source": [
        "# Example: Boxplot of a numeric feature grouped by a categorical feature\n",
        "plt.figure(figsize=(10, 6))\n",
        "sns.boxplot(x=data['Day_of_week'], y=numeric_data['Number_of_vehicles_involved'])\n",
        "plt.title(\"Number of Vehicles Involved by Day of the Week\")\n",
        "plt.xlabel(\"Day of the Week\")\n",
        "plt.ylabel(\"Number of Vehicles Involved\")\n",
        "plt.show()\n",
        "#Tuesday is most day in traffic"
      ],
      "metadata": {
        "colab": {
          "base_uri": "https://localhost:8080/",
          "height": 564
        },
        "id": "YkvCa2GzpZcZ",
        "outputId": "0cea9aed-348a-4a96-a47b-0b72a29f03f7"
      },
      "id": "YkvCa2GzpZcZ",
      "execution_count": 389,
      "outputs": [
        {
          "output_type": "display_data",
          "data": {
            "text/plain": [
              "<Figure size 1000x600 with 1 Axes>"
            ],
            "image/png": "[encoded data removed]"
          },
          "metadata": {}
        }
      ]
    },
    {
      "cell_type": "markdown",
      "id": "40ce1d71",
      "metadata": {
        "id": "40ce1d71"
      },
      "source": [
        "## Feature Selection\n",
        "- Choose features that you believe will most influence the outcome based on your analysis and the insights from your visualizations. Focus on those that appear most impactful to include in your modeling.\n",
        "\n",
        "## Train-Test Split\n",
        "* Divide the dataset into training and testing sets to evaluate the performance of your models."
      ]
    },
    {
      "cell_type": "markdown",
      "source": [
        "<h3> After absurving featur i will drop some with multyple resunse <h3>"
      ],
      "metadata": {
        "id": "Ouqyy5Vxdm1x"
      },
      "id": "Ouqyy5Vxdm1x"
    },
    {
      "cell_type": "markdown",
      "source": [
        "<h2> splet the data befor scaling and encoding"
      ],
      "metadata": {
        "id": "Sp7Hd-HSvC5U"
      },
      "id": "Sp7Hd-HSvC5U"
    },
    {
      "cell_type": "code",
      "source": [
        "print(categorical_data.shape[1])\n",
        "categorical_data=categorical_data.drop(['Time', 'Age_band_of_driver', 'Owner_of_vehicle', 'Age_band_of_casualty'], axis=1)\n",
        "print(\"after rshape\",categorical_data.shape[1])\n",
        "y=categorical_data['Accident_severity']\n",
        "\n",
        "categorical_data = categorical_data.drop(['Accident_severity'], axis=1)\n"
      ],
      "metadata": {
        "colab": {
          "base_uri": "https://localhost:8080/"
        },
        "id": "qO9idGH8cICL",
        "outputId": "94f6afd4-f93b-4c68-c07f-e4e3403ac24f"
      },
      "id": "qO9idGH8cICL",
      "execution_count": 395,
      "outputs": [
        {
          "output_type": "stream",
          "name": "stdout",
          "text": [
            "29\n",
            "after rshape 25\n"
          ]
        }
      ]
    },
    {
      "cell_type": "code",
      "source": [
        "y.head()"
      ],
      "metadata": {
        "colab": {
          "base_uri": "https://localhost:8080/",
          "height": 241
        },
        "id": "LhxV4Ayutaw9",
        "outputId": "985ca7fa-2dcc-4d95-8809-e6bedd1e41b4"
      },
      "id": "LhxV4Ayutaw9",
      "execution_count": 396,
      "outputs": [
        {
          "output_type": "execute_result",
          "data": {
            "text/plain": [
              "0     Slight Injury\n",
              "1     Slight Injury\n",
              "2    Serious Injury\n",
              "3     Slight Injury\n",
              "4     Slight Injury\n",
              "Name: Accident_severity, dtype: object"
            ],
            "text/html": [
              "<table border=\"1\" class=\"dataframe\">\n",
              "  <thead>\n",
              "    <tr style=\"text-align: right;\">\n",
              "      <th></th>\n",
              "      <th>Accident_severity</th>\n",
              "    </tr>\n",
              "  </thead>\n",
              "  <tbody>\n",
              "    <tr>\n",
              "      <th>0</th>\n",
              "      <td>Slight Injury</td>\n",
              "    </tr>\n",
              "    <tr>\n",
              "      <th>1</th>\n",
              "      <td>Slight Injury</td>\n",
              "    </tr>\n",
              "    <tr>\n",
              "      <th>2</th>\n",
              "      <td>Serious Injury</td>\n",
              "    </tr>\n",
              "    <tr>\n",
              "      <th>3</th>\n",
              "      <td>Slight Injury</td>\n",
              "    </tr>\n",
              "    <tr>\n",
              "      <th>4</th>\n",
              "      <td>Slight Injury</td>\n",
              "    </tr>\n",
              "  </tbody>\n",
              "</table><br><label><b>dtype:</b> object</label>"
            ]
          },
          "metadata": {},
          "execution_count": 396
        }
      ]
    },
    {
      "cell_type": "code",
      "source": [
        "from sklearn.preprocessing import LabelEncoder\n",
        "le=LabelEncoder()\n",
        "y=le.fit_transform(y)\n",
        "y."
      ],
      "metadata": {
        "colab": {
          "base_uri": "https://localhost:8080/"
        },
        "id": "-la5CKmYwzML",
        "outputId": "fb7263ec-0d54-44b8-d7d7-3e3d359c5ebe"
      },
      "id": "-la5CKmYwzML",
      "execution_count": 405,
      "outputs": [
        {
          "output_type": "execute_result",
          "data": {
            "text/plain": [
              "array([2, 2, 1, ..., 1, 2, 2])"
            ]
          },
          "metadata": {},
          "execution_count": 405
        }
      ]
    },
    {
      "cell_type": "code",
      "source": [
        "\n",
        "#encode and scali\n",
        "# One-hot encode the categorical data with prefix\n",
        "encoded_categorical_data = pd.get_dummies(categorical_data, prefix=categorical_data.columns)\n",
        "\n",
        "# Concatenate the numeric data and the encoded categorical data\n",
        "X= pd.concat([encoded_categorical_data , numeric_data], axis=1)\n",
        "X.head()"
      ],
      "metadata": {
        "colab": {
          "base_uri": "https://localhost:8080/",
          "height": 273
        },
        "id": "EVLI_TRjWae2",
        "outputId": "c8c72352-0d81-4ea1-c7b4-9ee70c3fbcce"
      },
      "id": "EVLI_TRjWae2",
      "execution_count": 397,
      "outputs": [
        {
          "output_type": "execute_result",
          "data": {
            "text/plain": [
              "   Day_of_week_Friday  Day_of_week_Monday  Day_of_week_Saturday  \\\n",
              "0               False                True                 False   \n",
              "1               False                True                 False   \n",
              "2               False                True                 False   \n",
              "3               False               False                 False   \n",
              "4               False               False                 False   \n",
              "\n",
              "   Day_of_week_Sunday  Day_of_week_Thursday  Day_of_week_Tuesday  \\\n",
              "0               False                 False                False   \n",
              "1               False                 False                False   \n",
              "2               False                 False                False   \n",
              "3                True                 False                False   \n",
              "4                True                 False                False   \n",
              "\n",
              "   Day_of_week_Wednesday  Sex_of_driver_Female  Sex_of_driver_Male  \\\n",
              "0                  False                 False                True   \n",
              "1                  False                 False                True   \n",
              "2                  False                 False                True   \n",
              "3                  False                 False                True   \n",
              "4                  False                 False                True   \n",
              "\n",
              "   Sex_of_driver_Unknown  ...  Cause_of_accident_No priority to vehicle  \\\n",
              "0                  False  ...                                     False   \n",
              "1                  False  ...                                     False   \n",
              "2                  False  ...                                     False   \n",
              "3                  False  ...                                     False   \n",
              "4                  False  ...                                     False   \n",
              "\n",
              "   Cause_of_accident_Other  Cause_of_accident_Overloading  \\\n",
              "0                    False                          False   \n",
              "1                    False                          False   \n",
              "2                    False                          False   \n",
              "3                    False                          False   \n",
              "4                    False                          False   \n",
              "\n",
              "   Cause_of_accident_Overspeed  Cause_of_accident_Overtaking  \\\n",
              "0                        False                         False   \n",
              "1                        False                          True   \n",
              "2                        False                         False   \n",
              "3                        False                         False   \n",
              "4                        False                          True   \n",
              "\n",
              "   Cause_of_accident_Overturning  Cause_of_accident_Turnover  \\\n",
              "0                          False                       False   \n",
              "1                          False                       False   \n",
              "2                          False                       False   \n",
              "3                          False                       False   \n",
              "4                          False                       False   \n",
              "\n",
              "   Cause_of_accident_Unknown  Number_of_vehicles_involved  \\\n",
              "0                      False                            2   \n",
              "1                      False                            2   \n",
              "2                      False                            2   \n",
              "3                      False                            2   \n",
              "4                      False                            2   \n",
              "\n",
              "   Number_of_casualties  \n",
              "0                     2  \n",
              "1                     2  \n",
              "2                     2  \n",
              "3                     2  \n",
              "4                     2  \n",
              "\n",
              "[5 rows x 191 columns]"
            ],
            "text/html": [
              "\n",
              "  <div id=\"df-01ad9baa-169b-4495-9591-fa580f22798c\" class=\"colab-df-container\">\n",
              "    <div>\n",
              "<style scoped>\n",
              "    .dataframe tbody tr th:only-of-type {\n",
              "        vertical-align: middle;\n",
              "    }\n",
              "\n",
              "    .dataframe tbody tr th {\n",
              "        vertical-align: top;\n",
              "    }\n",
              "\n",
              "    .dataframe thead th {\n",
              "        text-align: right;\n",
              "    }\n",
              "</style>\n",
              "<table border=\"1\" class=\"dataframe\">\n",
              "  <thead>\n",
              "    <tr style=\"text-align: right;\">\n",
              "      <th></th>\n",
              "      <th>Day_of_week_Friday</th>\n",
              "      <th>Day_of_week_Monday</th>\n",
              "      <th>Day_of_week_Saturday</th>\n",
              "      <th>Day_of_week_Sunday</th>\n",
              "      <th>Day_of_week_Thursday</th>\n",
              "      <th>Day_of_week_Tuesday</th>\n",
              "      <th>Day_of_week_Wednesday</th>\n",
              "      <th>Sex_of_driver_Female</th>\n",
              "      <th>Sex_of_driver_Male</th>\n",
              "      <th>Sex_of_driver_Unknown</th>\n",
              "      <th>...</th>\n",
              "      <th>Cause_of_accident_No priority to vehicle</th>\n",
              "      <th>Cause_of_accident_Other</th>\n",
              "      <th>Cause_of_accident_Overloading</th>\n",
              "      <th>Cause_of_accident_Overspeed</th>\n",
              "      <th>Cause_of_accident_Overtaking</th>\n",
              "      <th>Cause_of_accident_Overturning</th>\n",
              "      <th>Cause_of_accident_Turnover</th>\n",
              "      <th>Cause_of_accident_Unknown</th>\n",
              "      <th>Number_of_vehicles_involved</th>\n",
              "      <th>Number_of_casualties</th>\n",
              "    </tr>\n",
              "  </thead>\n",
              "  <tbody>\n",
              "    <tr>\n",
              "      <th>0</th>\n",
              "      <td>False</td>\n",
              "      <td>True</td>\n",
              "      <td>False</td>\n",
              "      <td>False</td>\n",
              "      <td>False</td>\n",
              "      <td>False</td>\n",
              "      <td>False</td>\n",
              "      <td>False</td>\n",
              "      <td>True</td>\n",
              "      <td>False</td>\n",
              "      <td>...</td>\n",
              "      <td>False</td>\n",
              "      <td>False</td>\n",
              "      <td>False</td>\n",
              "      <td>False</td>\n",
              "      <td>False</td>\n",
              "      <td>False</td>\n",
              "      <td>False</td>\n",
              "      <td>False</td>\n",
              "      <td>2</td>\n",
              "      <td>2</td>\n",
              "    </tr>\n",
              "    <tr>\n",
              "      <th>1</th>\n",
              "      <td>False</td>\n",
              "      <td>True</td>\n",
              "      <td>False</td>\n",
              "      <td>False</td>\n",
              "      <td>False</td>\n",
              "      <td>False</td>\n",
              "      <td>False</td>\n",
              "      <td>False</td>\n",
              "      <td>True</td>\n",
              "      <td>False</td>\n",
              "      <td>...</td>\n",
              "      <td>False</td>\n",
              "      <td>False</td>\n",
              "      <td>False</td>\n",
              "      <td>False</td>\n",
              "      <td>True</td>\n",
              "      <td>False</td>\n",
              "      <td>False</td>\n",
              "      <td>False</td>\n",
              "      <td>2</td>\n",
              "      <td>2</td>\n",
              "    </tr>\n",
              "    <tr>\n",
              "      <th>2</th>\n",
              "      <td>False</td>\n",
              "      <td>True</td>\n",
              "      <td>False</td>\n",
              "      <td>False</td>\n",
              "      <td>False</td>\n",
              "      <td>False</td>\n",
              "      <td>False</td>\n",
              "      <td>False</td>\n",
              "      <td>True</td>\n",
              "      <td>False</td>\n",
              "      <td>...</td>\n",
              "      <td>False</td>\n",
              "      <td>False</td>\n",
              "      <td>False</td>\n",
              "      <td>False</td>\n",
              "      <td>False</td>\n",
              "      <td>False</td>\n",
              "      <td>False</td>\n",
              "      <td>False</td>\n",
              "      <td>2</td>\n",
              "      <td>2</td>\n",
              "    </tr>\n",
              "    <tr>\n",
              "      <th>3</th>\n",
              "      <td>False</td>\n",
              "      <td>False</td>\n",
              "      <td>False</td>\n",
              "      <td>True</td>\n",
              "      <td>False</td>\n",
              "      <td>False</td>\n",
              "      <td>False</td>\n",
              "      <td>False</td>\n",
              "      <td>True</td>\n",
              "      <td>False</td>\n",
              "      <td>...</td>\n",
              "      <td>False</td>\n",
              "      <td>False</td>\n",
              "      <td>False</td>\n",
              "      <td>False</td>\n",
              "      <td>False</td>\n",
              "      <td>False</td>\n",
              "      <td>False</td>\n",
              "      <td>False</td>\n",
              "      <td>2</td>\n",
              "      <td>2</td>\n",
              "    </tr>\n",
              "    <tr>\n",
              "      <th>4</th>\n",
              "      <td>False</td>\n",
              "      <td>False</td>\n",
              "      <td>False</td>\n",
              "      <td>True</td>\n",
              "      <td>False</td>\n",
              "      <td>False</td>\n",
              "      <td>False</td>\n",
              "      <td>False</td>\n",
              "      <td>True</td>\n",
              "      <td>False</td>\n",
              "      <td>...</td>\n",
              "      <td>False</td>\n",
              "      <td>False</td>\n",
              "      <td>False</td>\n",
              "      <td>False</td>\n",
              "      <td>True</td>\n",
              "      <td>False</td>\n",
              "      <td>False</td>\n",
              "      <td>False</td>\n",
              "      <td>2</td>\n",
              "      <td>2</td>\n",
              "    </tr>\n",
              "  </tbody>\n",
              "</table>\n",
              "<p>5 rows × 191 columns</p>\n",
              "</div>\n",
              "    <div class=\"colab-df-buttons\">\n",
              "\n",
              "  <div class=\"colab-df-container\">\n",
              "    <button class=\"colab-df-convert\" onclick=\"convertToInteractive('df-01ad9baa-169b-4495-9591-fa580f22798c')\"\n",
              "            title=\"Convert this dataframe to an interactive table.\"\n",
              "            style=\"display:none;\">\n",
              "\n",
              "  <svg xmlns=\"http://www.w3.org/2000/svg\" height=\"24px\" viewBox=\"0 -960 960 960\">\n",
              "    <path d=\"M120-120v-720h720v720H120Zm60-500h600v-160H180v160Zm220 220h160v-160H400v160Zm0 220h160v-160H400v160ZM180-400h160v-160H180v160Zm440 0h160v-160H620v160ZM180-180h160v-160H180v160Zm440 0h160v-160H620v160Z\"/>\n",
              "  </svg>\n",
              "    </button>\n",
              "\n",
              "  <style>\n",
              "    .colab-df-container {\n",
              "      display:flex;\n",
              "      gap: 12px;\n",
              "    }\n",
              "\n",
              "    .colab-df-convert {\n",
              "      background-color: #E8F0FE;\n",
              "      border: none;\n",
              "      border-radius: 50%;\n",
              "      cursor: pointer;\n",
              "      display: none;\n",
              "      fill: #1967D2;\n",
              "      height: 32px;\n",
              "      padding: 0 0 0 0;\n",
              "      width: 32px;\n",
              "    }\n",
              "\n",
              "    .colab-df-convert:hover {\n",
              "      background-color: #E2EBFA;\n",
              "      box-shadow: 0px 1px 2px rgba(60, 64, 67, 0.3), 0px 1px 3px 1px rgba(60, 64, 67, 0.15);\n",
              "      fill: #174EA6;\n",
              "    }\n",
              "\n",
              "    .colab-df-buttons div {\n",
              "      margin-bottom: 4px;\n",
              "    }\n",
              "\n",
              "    [theme=dark] .colab-df-convert {\n",
              "      background-color: #3B4455;\n",
              "      fill: #D2E3FC;\n",
              "    }\n",
              "\n",
              "    [theme=dark] .colab-df-convert:hover {\n",
              "      background-color: #434B5C;\n",
              "      box-shadow: 0px 1px 3px 1px rgba(0, 0, 0, 0.15);\n",
              "      filter: drop-shadow(0px 1px 2px rgba(0, 0, 0, 0.3));\n",
              "      fill: #FFFFFF;\n",
              "    }\n",
              "  </style>\n",
              "\n",
              "    <script>\n",
              "      const buttonEl =\n",
              "        document.querySelector('#df-01ad9baa-169b-4495-9591-fa580f22798c button.colab-df-convert');\n",
              "      buttonEl.style.display =\n",
              "        google.colab.kernel.accessAllowed ? 'block' : 'none';\n",
              "\n",
              "      async function convertToInteractive(key) {\n",
              "        const element = document.querySelector('#df-01ad9baa-169b-4495-9591-fa580f22798c');\n",
              "        const dataTable =\n",
              "          await google.colab.kernel.invokeFunction('convertToInteractive',\n",
              "                                                    [key], {});\n",
              "        if (!dataTable) return;\n",
              "\n",
              "        const docLinkHtml = 'Like what you see? Visit the ' +\n",
              "          '<a target=\"_blank\" href=https://colab.research.google.com/notebooks/data_table.ipynb>data table notebook</a>'\n",
              "          + ' to learn more about interactive tables.';\n",
              "        element.innerHTML = '';\n",
              "        dataTable['output_type'] = 'display_data';\n",
              "        await google.colab.output.renderOutput(dataTable, element);\n",
              "        const docLink = document.createElement('div');\n",
              "        docLink.innerHTML = docLinkHtml;\n",
              "        element.appendChild(docLink);\n",
              "      }\n",
              "    </script>\n",
              "  </div>\n",
              "\n",
              "\n",
              "<div id=\"df-1bc379ef-c13f-4b56-9e56-1a81f0d137b5\">\n",
              "  <button class=\"colab-df-quickchart\" onclick=\"quickchart('df-1bc379ef-c13f-4b56-9e56-1a81f0d137b5')\"\n",
              "            title=\"Suggest charts\"\n",
              "            style=\"display:none;\">\n",
              "\n",
              "<svg xmlns=\"http://www.w3.org/2000/svg\" height=\"24px\"viewBox=\"0 0 24 24\"\n",
              "     width=\"24px\">\n",
              "    <g>\n",
              "        <path d=\"M19 3H5c-1.1 0-2 .9-2 2v14c0 1.1.9 2 2 2h14c1.1 0 2-.9 2-2V5c0-1.1-.9-2-2-2zM9 17H7v-7h2v7zm4 0h-2V7h2v10zm4 0h-2v-4h2v4z\"/>\n",
              "    </g>\n",
              "</svg>\n",
              "  </button>\n",
              "\n",
              "<style>\n",
              "  .colab-df-quickchart {\n",
              "      --bg-color: #E8F0FE;\n",
              "      --fill-color: #1967D2;\n",
              "      --hover-bg-color: #E2EBFA;\n",
              "      --hover-fill-color: #174EA6;\n",
              "      --disabled-fill-color: #AAA;\n",
              "      --disabled-bg-color: #DDD;\n",
              "  }\n",
              "\n",
              "  [theme=dark] .colab-df-quickchart {\n",
              "      --bg-color: #3B4455;\n",
              "      --fill-color: #D2E3FC;\n",
              "      --hover-bg-color: #434B5C;\n",
              "      --hover-fill-color: #FFFFFF;\n",
              "      --disabled-bg-color: #3B4455;\n",
              "      --disabled-fill-color: #666;\n",
              "  }\n",
              "\n",
              "  .colab-df-quickchart {\n",
              "    background-color: var(--bg-color);\n",
              "    border: none;\n",
              "    border-radius: 50%;\n",
              "    cursor: pointer;\n",
              "    display: none;\n",
              "    fill: var(--fill-color);\n",
              "    height: 32px;\n",
              "    padding: 0;\n",
              "    width: 32px;\n",
              "  }\n",
              "\n",
              "  .colab-df-quickchart:hover {\n",
              "    background-color: var(--hover-bg-color);\n",
              "    box-shadow: 0 1px 2px rgba(60, 64, 67, 0.3), 0 1px 3px 1px rgba(60, 64, 67, 0.15);\n",
              "    fill: var(--button-hover-fill-color);\n",
              "  }\n",
              "\n",
              "  .colab-df-quickchart-complete:disabled,\n",
              "  .colab-df-quickchart-complete:disabled:hover {\n",
              "    background-color: var(--disabled-bg-color);\n",
              "    fill: var(--disabled-fill-color);\n",
              "    box-shadow: none;\n",
              "  }\n",
              "\n",
              "  .colab-df-spinner {\n",
              "    border: 2px solid var(--fill-color);\n",
              "    border-color: transparent;\n",
              "    border-bottom-color: var(--fill-color);\n",
              "    animation:\n",
              "      spin 1s steps(1) infinite;\n",
              "  }\n",
              "\n",
              "  @keyframes spin {\n",
              "    0% {\n",
              "      border-color: transparent;\n",
              "      border-bottom-color: var(--fill-color);\n",
              "      border-left-color: var(--fill-color);\n",
              "    }\n",
              "    20% {\n",
              "      border-color: transparent;\n",
              "      border-left-color: var(--fill-color);\n",
              "      border-top-color: var(--fill-color);\n",
              "    }\n",
              "    30% {\n",
              "      border-color: transparent;\n",
              "      border-left-color: var(--fill-color);\n",
              "      border-top-color: var(--fill-color);\n",
              "      border-right-color: var(--fill-color);\n",
              "    }\n",
              "    40% {\n",
              "      border-color: transparent;\n",
              "      border-right-color: var(--fill-color);\n",
              "      border-top-color: var(--fill-color);\n",
              "    }\n",
              "    60% {\n",
              "      border-color: transparent;\n",
              "      border-right-color: var(--fill-color);\n",
              "    }\n",
              "    80% {\n",
              "      border-color: transparent;\n",
              "      border-right-color: var(--fill-color);\n",
              "      border-bottom-color: var(--fill-color);\n",
              "    }\n",
              "    90% {\n",
              "      border-color: transparent;\n",
              "      border-bottom-color: var(--fill-color);\n",
              "    }\n",
              "  }\n",
              "</style>\n",
              "\n",
              "  <script>\n",
              "    async function quickchart(key) {\n",
              "      const quickchartButtonEl =\n",
              "        document.querySelector('#' + key + ' button');\n",
              "      quickchartButtonEl.disabled = true;  // To prevent multiple clicks.\n",
              "      quickchartButtonEl.classList.add('colab-df-spinner');\n",
              "      try {\n",
              "        const charts = await google.colab.kernel.invokeFunction(\n",
              "            'suggestCharts', [key], {});\n",
              "      } catch (error) {\n",
              "        console.error('Error during call to suggestCharts:', error);\n",
              "      }\n",
              "      quickchartButtonEl.classList.remove('colab-df-spinner');\n",
              "      quickchartButtonEl.classList.add('colab-df-quickchart-complete');\n",
              "    }\n",
              "    (() => {\n",
              "      let quickchartButtonEl =\n",
              "        document.querySelector('#df-1bc379ef-c13f-4b56-9e56-1a81f0d137b5 button');\n",
              "      quickchartButtonEl.style.display =\n",
              "        google.colab.kernel.accessAllowed ? 'block' : 'none';\n",
              "    })();\n",
              "  </script>\n",
              "</div>\n",
              "\n",
              "    </div>\n",
              "  </div>\n"
            ],
            "application/vnd.google.colaboratory.intrinsic+json": {
              "type": "dataframe",
              "variable_name": "X"
            }
          },
          "metadata": {},
          "execution_count": 397
        }
      ]
    },
    {
      "cell_type": "code",
      "source": [
        "print(X.shape)\n",
        "\n",
        "print(y.shape)"
      ],
      "metadata": {
        "colab": {
          "base_uri": "https://localhost:8080/"
        },
        "id": "RVmVEeZBv0zN",
        "outputId": "7e81e7b6-9f76-43e5-ef93-7a68e2ba7b52"
      },
      "id": "RVmVEeZBv0zN",
      "execution_count": 408,
      "outputs": [
        {
          "output_type": "stream",
          "name": "stdout",
          "text": [
            "(12316, 191)\n",
            "(12316,)\n"
          ]
        }
      ]
    },
    {
      "cell_type": "code",
      "source": [
        "from sklearn.model_selection import train_test_split, GridSearchCV, cross_val_score\n",
        "\n",
        "X_train, X_test, y_train, y_test = train_test_split(X, y, test_size=0.3, random_state=42)"
      ],
      "metadata": {
        "id": "7-48bGqywO1K"
      },
      "id": "7-48bGqywO1K",
      "execution_count": 409,
      "outputs": []
    },
    {
      "cell_type": "markdown",
      "id": "e74a5058",
      "metadata": {
        "id": "e74a5058"
      },
      "source": [
        "## Modeling\n",
        "\n",
        "Once the data is split into training and testing sets, the next step is to build models to make predictions. Here, we will explore several machine learning algorithms, each with its unique characteristics and suitability for different types of data and problems. You will implement the following models:\n",
        "\n",
        "### 1. Logistic Regression\n",
        "\n",
        "### 2. Decision Tree Classifier\n",
        "\n",
        "### 3. Support Vector Machine (SVM)\n",
        "\n",
        "### 4. K-Neighbors Classifier\n",
        "\n",
        "### Implementing the Models\n",
        "- For each model, use the training data you have prepared to train the model."
      ]
    },
    {
      "cell_type": "markdown",
      "id": "1a6c9815",
      "metadata": {
        "id": "1a6c9815"
      },
      "source": [
        "#### Logistic Regression"
      ]
    },
    {
      "cell_type": "code",
      "execution_count": 412,
      "id": "d35137d1",
      "metadata": {
        "id": "d35137d1",
        "colab": {
          "base_uri": "https://localhost:8080/"
        },
        "outputId": "9086fd78-16da-4032-e91f-e71f5a3eee80"
      },
      "outputs": [
        {
          "output_type": "stream",
          "name": "stdout",
          "text": [
            "Mean Squared Error: 0.17435626481316083\n"
          ]
        }
      ],
      "source": [
        "from sklearn.preprocessing import StandardScaler, OneHotEncoder\n",
        "from sklearn.compose import ColumnTransformer\n",
        "from sklearn.pipeline import Pipeline\n",
        "from sklearn.linear_model import LinearRegression\n",
        "from sklearn.metrics import mean_squared_error, r2_score\n",
        "steps = [\n",
        "    ('scaler', StandardScaler()),  # Transformer step\n",
        "    ('regressor', LinearRegression())  # Estimator step\n",
        "]\n",
        "\n",
        "# Create the pipeline\n",
        "pipeline = Pipeline(steps)\n",
        "\n",
        "# Train the pipeline on the training data\n",
        "pipeline.fit(X_train, y_train)\n",
        "\n",
        "# Make predictions on the test data\n",
        "linear_y_pred = pipeline.predict(X_test)\n",
        "\n",
        "# Evaluate the model\n",
        "mse = mean_squared_error(y_test, y_pred)\n",
        "print(f\"Mean Squared Error: {mse}\")"
      ]
    },
    {
      "cell_type": "markdown",
      "id": "0cfd5ecb",
      "metadata": {
        "id": "0cfd5ecb"
      },
      "source": [
        "#### Decision Tree Classifier"
      ]
    },
    {
      "cell_type": "code",
      "execution_count": 416,
      "id": "6f448f26",
      "metadata": {
        "id": "6f448f26",
        "colab": {
          "base_uri": "https://localhost:8080/"
        },
        "outputId": "c5bdaec0-592b-4c44-d7c8-44038f01e29a"
      },
      "outputs": [
        {
          "output_type": "stream",
          "name": "stdout",
          "text": [
            "Mean Squared Error for Decision Tree: 0.31231393775372124\n"
          ]
        }
      ],
      "source": [
        "from sklearn.tree import DecisionTreeClassifier\n",
        "\n",
        "steps = [\n",
        "    ('scaler', StandardScaler()),\n",
        "    ('tree', DecisionTreeClassifier())\n",
        "]\n",
        "\n",
        "pipeline = Pipeline(steps)\n",
        "pipeline.fit(X_train, y_train)\n",
        "tree_y_pred = pipeline.predict(X_test)\n",
        "\n",
        "# Evaluate the model (example with mean squared error)\n",
        "mse = mean_squared_error(y_test, tree_y_pred)\n",
        "print(f\"Mean Squared Error for Decision Tree: {mse}\")"
      ]
    },
    {
      "cell_type": "markdown",
      "id": "7ce21487",
      "metadata": {
        "id": "7ce21487"
      },
      "source": [
        "#### Support Vector Machine (SVM)"
      ]
    },
    {
      "cell_type": "code",
      "execution_count": 414,
      "id": "0ba4edd5",
      "metadata": {
        "id": "0ba4edd5",
        "colab": {
          "base_uri": "https://localhost:8080/"
        },
        "outputId": "16ac1553-99a4-4141-e5b4-690de757d5ca"
      },
      "outputs": [
        {
          "output_type": "stream",
          "name": "stdout",
          "text": [
            "Mean Squared Error for SVM: 0.20568335588633288\n"
          ]
        }
      ],
      "source": [
        "from sklearn.svm import SVC\n",
        "\n",
        "steps = [\n",
        "    ('scaler', StandardScaler()),\n",
        "    ('svm', SVC())\n",
        "]\n",
        "\n",
        "pipeline = Pipeline(steps)\n",
        "pipeline.fit(X_train, y_train)\n",
        "svm_y_pred = pipeline.predict(X_test)\n",
        "\n",
        "# Evaluate the model (example with mean squared error)\n",
        "mse = mean_squared_error(y_test, svm_y_pred)\n",
        "print(f\"Mean Squared Error for SVM: {mse}\")"
      ]
    },
    {
      "cell_type": "markdown",
      "id": "f3656932",
      "metadata": {
        "id": "f3656932"
      },
      "source": [
        "\n",
        "\n",
        "```\n",
        "# This is formatted as code\n",
        "```\n",
        "\n",
        "#### K-Neighbors Classifier"
      ]
    },
    {
      "cell_type": "code",
      "execution_count": 418,
      "id": "c8c73d33",
      "metadata": {
        "id": "c8c73d33",
        "colab": {
          "base_uri": "https://localhost:8080/"
        },
        "outputId": "c22040a2-26fe-4f81-ffe5-6e7b6772f418"
      },
      "outputs": [
        {
          "output_type": "stream",
          "name": "stdout",
          "text": [
            "Mean Squared Error for KNN: 0.2175913396481732\n"
          ]
        }
      ],
      "source": [
        "from sklearn.neighbors import KNeighborsClassifier\n",
        "\n",
        "steps = [\n",
        "    ('scaler', StandardScaler()),\n",
        "    ('knn', KNeighborsClassifier())\n",
        "]\n",
        "\n",
        "pipeline = Pipeline(steps)\n",
        "pipeline.fit(X_train, y_train)\n",
        "knn_y_pred = pipeline.predict(X_test)\n",
        "\n",
        "# Evaluate the model (example with mean squared error)\n",
        "mse = mean_squared_error(y_test, knn_y_pred)\n",
        "print(f\"Mean Squared Error for KNN: {mse}\")"
      ]
    },
    {
      "cell_type": "markdown",
      "id": "12057ba0",
      "metadata": {
        "id": "12057ba0"
      },
      "source": [
        "## Model Evaluation\n",
        "\n",
        "After training your models, it's crucial to evaluate their performance to understand their effectiveness and limitations. This section outlines various techniques and metrics to assess the performance of each model you have implemented.\n",
        "\n",
        "### Evaluation Techniques\n",
        "1. **Confusion Matrix**\n",
        "\n",
        "2. **Accuracy**\n",
        "\n",
        "3. **Precision and Recall**\n",
        "\n",
        "4. **F1 Score**\n",
        "\n",
        "5. **ROC Curve and AUC**\n",
        "\n",
        "### Implementing Evaluation\n",
        "- Calculate the metrics listed above using your test data."
      ]
    },
    {
      "cell_type": "markdown",
      "source": [
        "<h2>Logestic model"
      ],
      "metadata": {
        "id": "TLa8JtwfyIMT"
      },
      "id": "TLa8JtwfyIMT"
    },
    {
      "cell_type": "code",
      "execution_count": 413,
      "id": "c8328067",
      "metadata": {
        "id": "c8328067",
        "colab": {
          "base_uri": "https://localhost:8080/"
        },
        "outputId": "6a4503e2-2f1f-4d05-f007-9080805b4712"
      },
      "outputs": [
        {
          "output_type": "stream",
          "name": "stdout",
          "text": [
            "MAE: 0.2831168086443421\n",
            "MSE: 0.17435626481316083\n",
            "RMSE: 0.41755989368372154\n"
          ]
        }
      ],
      "source": [
        "from sklearn.metrics import mean_absolute_error,mean_squared_error\n",
        "mae = mean_absolute_error(y_true=y_test,y_pred=linear_y_pred)\n",
        "\n",
        "mse = mean_squared_error(y_true=y_test,y_pred=linear_y_pred)\n",
        "rmse = mean_squared_error(y_true=y_test,y_pred=linear_y_pred,squared=False)\n",
        "\n",
        "print(\"MAE:\",mae)\n",
        "print(\"MSE:\",mse)\n",
        "print(\"RMSE:\",rmse)"
      ]
    },
    {
      "cell_type": "code",
      "source": [
        "from sklearn.metrics import mean_absolute_error,mean_squared_error\n",
        "mae = mean_absolute_error(y_true=y_test,y_pred=linear_y_pred)\n",
        "\n",
        "mse = mean_squared_error(y_true=y_test,y_pred=tree_y_pred)\n",
        "rmse = mean_squared_error(y_true=y_test,y_pred=tree_y_pred,squared=False)\n",
        "\n",
        "print(\"MAE:\",mae)\n",
        "print(\"MSE:\",mse)\n",
        "print(\"RMSE:\",rmse)"
      ],
      "metadata": {
        "colab": {
          "base_uri": "https://localhost:8080/"
        },
        "id": "Nat1yXzHzDAy",
        "outputId": "5363dcd0-de30-4ab3-a641-1d7ece402db6"
      },
      "id": "Nat1yXzHzDAy",
      "execution_count": 419,
      "outputs": [
        {
          "output_type": "stream",
          "name": "stdout",
          "text": [
            "MAE: 0.2831168086443421\n",
            "MSE: 0.31231393775372124\n",
            "RMSE: 0.5588505504638259\n"
          ]
        }
      ]
    },
    {
      "cell_type": "code",
      "source": [
        "from sklearn.metrics import mean_absolute_error,mean_squared_error\n",
        "mae = mean_absolute_error(y_true=y_test,y_pred=svm_y_pred)\n",
        "\n",
        "mse = mean_squared_error(y_true=y_test,y_pred=svm_y_pred)\n",
        "rmse = mean_squared_error(y_true=y_test,y_pred=svm_y_pred,squared=False)\n",
        "\n",
        "print(\"MAE:\",mae)\n",
        "print(\"MSE:\",mse)\n",
        "print(\"RMSE:\",rmse)"
      ],
      "metadata": {
        "colab": {
          "base_uri": "https://localhost:8080/"
        },
        "id": "k6PTjhXEzuE6",
        "outputId": "c84b90ea-b2e5-4920-8802-bd5e2b71326d"
      },
      "id": "k6PTjhXEzuE6",
      "execution_count": 420,
      "outputs": [
        {
          "output_type": "stream",
          "name": "stdout",
          "text": [
            "MAE: 0.17753721244925574\n",
            "MSE: 0.20568335588633288\n",
            "RMSE: 0.45352326939897236\n"
          ]
        }
      ]
    },
    {
      "cell_type": "code",
      "source": [
        "from sklearn.metrics import mean_absolute_error,mean_squared_error\n",
        "mae = mean_absolute_error(y_true=y_test,y_pred=knn_y_pred)\n",
        "\n",
        "mse = mean_squared_error(y_true=y_test,y_pred=knn_y_pred)\n",
        "rmse = mean_squared_error(y_true=y_test,y_pred=knn_y_pred,squared=False)\n",
        "\n",
        "print(\"MAE:\",mae)\n",
        "print(\"MSE:\",mse)\n",
        "print(\"RMSE:\",rmse)"
      ],
      "metadata": {
        "colab": {
          "base_uri": "https://localhost:8080/"
        },
        "id": "anUvJ-Jtz2G6",
        "outputId": "93265724-d615-4a4c-fe8c-ebf921aaacdd"
      },
      "id": "anUvJ-Jtz2G6",
      "execution_count": 421,
      "outputs": [
        {
          "output_type": "stream",
          "name": "stdout",
          "text": [
            "MAE: 0.18998646820027063\n",
            "MSE: 0.2175913396481732\n",
            "RMSE: 0.46646686875722826\n"
          ]
        }
      ]
    },
    {
      "cell_type": "markdown",
      "id": "65f17c12",
      "metadata": {
        "id": "65f17c12"
      },
      "source": [
        "## Project Questions:\n",
        "\n",
        "### Comparative Analysis\n",
        "\n",
        "- **Compare Metrics**: Examine the performance metrics (such as accuracy, precision, and recall) of each model. Document your observations on which model performs best for your dataset and the problem you're addressing.\n",
        "- `**Evaluate Trade-offs**:` Discuss the trade-offs you encountered when choosing between models. Consider factors like computational efficiency, ease of implementation, and model interpretability.\n",
        "- **Justify Your Choice**: After comparing and evaluating, explain why you believe one model is the best choice. Provide a clear rationale based on the performance metrics and trade-offs discussed.\n",
        "- **Feature Importance**: Identify and discuss the most important features for the best-performing model. How do these features impact the predictions? Use the visualizations you have created to justify your answer if necessary.\n",
        "- **Model Limitations**: Discuss any limitations you encountered with the models you used. Are there any aspects of the data or the problem that these models do not handle well?\n",
        "- **Future Improvements**: Suggest potential improvements or further steps you could take to enhance model performance. This could include trying different algorithms, feature engineering techniques, or tuning hyperparameters."
      ]
    },
    {
      "cell_type": "markdown",
      "source": [
        "<h4>Compare Metrics: in model evaluation i comper with all model and findout that the most convenin model for the problim and the featur i choses is diffrent with the way i calculate the error for exampl the best model in MAE is SVM And in MSE is th logistic regression model but in avarege the svm Is the best (I Need more Calculation)"
      ],
      "metadata": {
        "id": "F6wVGeAm1hhT"
      },
      "id": "F6wVGeAm1hhT"
    },
    {
      "cell_type": "markdown",
      "source": [
        "<h3>Evaluate Trade-offs: i justfaid previsly that if i need to choses model i will choses the leatst in error (SVM) and the Accurce of the model privent that SVM is the fit one\n",
        "<h3> SVM Accuracy: 0.8365358592692829\n",
        "Precision: 0.6997922438433973\n",
        "Recall: 0.8365358592692829\n",
        "<h3>KNN Accuracy: 0.8238159675236807\n",
        "Precision: 0.7354734359370295\n",
        "Recall: 0.8238159675236807"
      ],
      "metadata": {
        "id": "y02YoLYP3JBY"
      },
      "id": "y02YoLYP3JBY"
    },
    {
      "cell_type": "markdown",
      "source": [
        "**Evaluate Trade-offs**: the data have Time And in my casw my lapil will not be diffrint and not depend on time maybe the Strigth off the accident  depend on some peroiord of time like night or day but the tybe is not"
      ],
      "metadata": {
        "id": "W3F59ZwP5aiI"
      },
      "id": "W3F59ZwP5aiI"
    },
    {
      "cell_type": "markdown",
      "source": [
        "-Svm Models is more convenient for multi class problem according to personal previse useg for me"
      ],
      "metadata": {
        "id": "t9amxYgk8xcx"
      },
      "id": "t9amxYgk8xcx"
    },
    {
      "cell_type": "markdown",
      "id": "76425529",
      "metadata": {
        "id": "76425529"
      },
      "source": [
        "### Answer Here:"
      ]
    },
    {
      "cell_type": "markdown",
      "source": [
        "## Confise *Matrix*:\n"
      ],
      "metadata": {
        "id": "ItmVcjta1UOU"
      },
      "id": "ItmVcjta1UOU"
    },
    {
      "cell_type": "code",
      "source": [
        "from sklearn.metrics import accuracy_score, precision_score, recall_score\n",
        "\n",
        "# Assuming y_test (true labels) and y_pred (predicted labels) for a classification model\n",
        "accuracy = accuracy_score(y_test, svm_y_pred)\n",
        "precision = precision_score(y_test, svm_y_pred, average='weighted')  # Adjust 'average' parameter as needed\n",
        "recall = recall_score(y_test, svm_y_pred, average='weighted')  # Adjust 'average' parameter as needed\n",
        "\n",
        "print(\"Accuracy:\", accuracy)\n",
        "print(\"Precision:\", precision)\n",
        "print(\"Recall:\", recall)"
      ],
      "metadata": {
        "colab": {
          "base_uri": "https://localhost:8080/"
        },
        "id": "k09LMDUf1ETC",
        "outputId": "25c75158-02a2-4c41-fe3e-cd93f31a86c6"
      },
      "id": "k09LMDUf1ETC",
      "execution_count": 426,
      "outputs": [
        {
          "output_type": "stream",
          "name": "stdout",
          "text": [
            "Accuracy: 0.8365358592692829\n",
            "Precision: 0.6997922438433973\n",
            "Recall: 0.8365358592692829\n"
          ]
        },
        {
          "output_type": "stream",
          "name": "stderr",
          "text": [
            "/usr/local/lib/python3.10/dist-packages/sklearn/metrics/_classification.py:1471: UndefinedMetricWarning: Precision is ill-defined and being set to 0.0 in labels with no predicted samples. Use `zero_division` parameter to control this behavior.\n",
            "  _warn_prf(average, modifier, msg_start, len(result))\n"
          ]
        }
      ]
    },
    {
      "cell_type": "code",
      "source": [
        "from sklearn.metrics import accuracy_score, precision_score, recall_score\n",
        "\n",
        "# Assuming y_test (true labels) and y_pred (predicted labels) for a classification model\n",
        "accuracy = accuracy_score(y_test, tree_y_pred)\n",
        "precision = precision_score(y_test, tree_y_pred, average='weighted')  # Adjust 'average' parameter as needed\n",
        "recall = recall_score(y_test, tree_y_pred, average='weighted')  # Adjust 'average' parameter as needed\n",
        "\n",
        "print(\"Accuracy:\", accuracy)\n",
        "print(\"Precision:\", precision)\n",
        "print(\"Recall:\", recall)"
      ],
      "metadata": {
        "colab": {
          "base_uri": "https://localhost:8080/"
        },
        "id": "NKpvArlt4YAA",
        "outputId": "c766fc37-4fb9-49d2-c91d-0c5465506f64"
      },
      "id": "NKpvArlt4YAA",
      "execution_count": 427,
      "outputs": [
        {
          "output_type": "stream",
          "name": "stdout",
          "text": [
            "Accuracy: 0.747767253044655\n",
            "Precision: 0.7474730682037853\n",
            "Recall: 0.747767253044655\n"
          ]
        }
      ]
    },
    {
      "cell_type": "code",
      "source": [
        "from sklearn.metrics import accuracy_score, precision_score, recall_score\n",
        "\n",
        "# Assuming y_test (true labels) and y_pred (predicted labels) for a classification model\n",
        "accuracy = accuracy_score(y_test, knn_y_pred)\n",
        "precision = precision_score(y_test, knn_y_pred, average='weighted')  # Adjust 'average' parameter as needed\n",
        "recall = recall_score(y_test, knn_y_pred, average='weighted')  # Adjust 'average' parameter as needed\n",
        "\n",
        "print(\"Accuracy:\", accuracy)\n",
        "print(\"Precision:\", precision)\n",
        "print(\"Recall:\", recall)"
      ],
      "metadata": {
        "colab": {
          "base_uri": "https://localhost:8080/"
        },
        "id": "CpTRAn2K4ZGk",
        "outputId": "a67035c3-f54d-4405-f256-b34a0177aeab"
      },
      "id": "CpTRAn2K4ZGk",
      "execution_count": 428,
      "outputs": [
        {
          "output_type": "stream",
          "name": "stdout",
          "text": [
            "Accuracy: 0.8238159675236807\n",
            "Precision: 0.7354734359370295\n",
            "Recall: 0.8238159675236807\n"
          ]
        }
      ]
    }
  ],
  "metadata": {
    "language_info": {
      "name": "python"
    },
    "colab": {
      "provenance": [],
      "toc_visible": true
    },
    "kernelspec": {
      "name": "python3",
      "display_name": "Python 3"
    }
  },
  "nbformat": 4,
  "nbformat_minor": 5
}